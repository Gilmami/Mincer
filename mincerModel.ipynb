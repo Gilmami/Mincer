{
 "cells": [
  {
   "cell_type": "code",
   "execution_count": 19,
   "id": "6c954e54",
   "metadata": {},
   "outputs": [],
   "source": [
    "import math\n",
    "import statsmodels.api as sm\n",
    "import matplotlib.pyplot as plt\n",
    "from statsmodels.formula.api import ols\n",
    "from scipy import stats\n",
    "import pandas as pd\n",
    "import numpy as np\n",
    "import seaborn as sns\n",
    "import warnings\n",
    "warnings.simplefilter(action='ignore', category=FutureWarning)"
   ]
  },
  {
   "cell_type": "code",
   "execution_count": 20,
   "id": "d1dd5e76",
   "metadata": {},
   "outputs": [],
   "source": [
    "#import data, get sense of size and show columns to see what we're working with."
   ]
  },
  {
   "cell_type": "code",
   "execution_count": 21,
   "id": "03a15310",
   "metadata": {},
   "outputs": [],
   "source": [
    "gdp_deflator = pd.read_csv(r\"G:\\Shared drives\\EDU Consulting - Private\\Michael\\Mincer\\data\\gdp_deflator.csv\")\n",
    "raw_pp_1 = pd.read_csv(r\"G:\\Shared drives\\EDU Consulting - Private\\Michael\\Mincer\\data\\pppub23.csv\")\n",
    "raw_hh_1 = pd.read_csv(r\"G:\\Shared drives\\EDU Consulting - Private\\Michael\\Mincer\\data\\hhpub23.csv\")\n",
    "raw_pp_2 = pd.read_csv(r\"G:\\Shared drives\\EDU Consulting - Private\\Michael\\Mincer\\data\\pppub23.csv\")\n",
    "raw_hh_2 = pd.read_csv(r\"G:\\Shared drives\\EDU Consulting - Private\\Michael\\Mincer\\data\\hhpub23.csv\")\n",
    "raw_pp_3 = pd.read_csv(r\"G:\\Shared drives\\EDU Consulting - Private\\Michael\\Mincer\\data\\pppub21.csv\")\n",
    "raw_hh_3 = pd.read_csv(r\"G:\\Shared drives\\EDU Consulting - Private\\Michael\\Mincer\\data\\hhpub21.csv\")"
   ]
  },
  {
   "cell_type": "markdown",
   "id": "fab33bfe",
   "metadata": {},
   "source": [
    "# Add this in for 5 yr analysis \n",
    "raw_pp_4 = pd.read_csv(r\"G:\\Shared drives\\EDU Consulting - Private\\Michael\\Mincer\\data\\pppub20.csv\")\n",
    "raw_hh_4 = pd.read_csv(r\"G:\\Shared drives\\EDU Consulting - Private\\Michael\\Mincer\\data\\hhpub20.csv\")\n",
    "raw_pp_5 = pd.read_csv(r\"G:\\Shared drives\\EDU Consulting - Private\\Michael\\Mincer\\data\\pppub19.csv\")\n",
    "raw_hh_5 = pd.read_csv(r\"G:\\Shared drives\\EDU Consulting - Private\\Michael\\Mincer\\data\\hhpub19.csv\")"
   ]
  },
  {
   "cell_type": "code",
   "execution_count": 22,
   "id": "bf629231",
   "metadata": {},
   "outputs": [],
   "source": [
    "def pp_to_hh_id(ppID):\n",
    "    return ppID[0:-2]"
   ]
  },
  {
   "cell_type": "code",
   "execution_count": 23,
   "id": "93ccf4cb",
   "metadata": {},
   "outputs": [],
   "source": [
    "def date_clean(date):\n",
    "    year = date[0:4]\n",
    "    return year"
   ]
  },
  {
   "cell_type": "code",
   "execution_count": 24,
   "id": "bd4c50ea",
   "metadata": {},
   "outputs": [],
   "source": [
    "raw_pp_1[\"PERIDNUM\"]=raw_pp_1[\"PERIDNUM\"].apply(pp_to_hh_id)\n",
    "raw_pp_2[\"PERIDNUM\"]=raw_pp_2[\"PERIDNUM\"].apply(pp_to_hh_id)\n",
    "raw_pp_3[\"PERIDNUM\"]=raw_pp_3[\"PERIDNUM\"].apply(pp_to_hh_id)"
   ]
  },
  {
   "cell_type": "markdown",
   "id": "d8e4f41b",
   "metadata": {},
   "source": [
    "# add in for 5 yr analysis\n",
    "raw_pp_4[\"PERIDNUM\"]=raw_pp_4[\"PERIDNUM\"].apply(pp_to_hh_id)\n",
    "raw_pp_5[\"PERIDNUM\"]=raw_pp_5[\"PERIDNUM\"].apply(pp_to_hh_id)"
   ]
  },
  {
   "cell_type": "markdown",
   "id": "4bfabc0e",
   "metadata": {},
   "source": []
  },
  {
   "cell_type": "code",
   "execution_count": 25,
   "id": "8c4873f2",
   "metadata": {},
   "outputs": [],
   "source": [
    "raw_cps_1 = pd.merge(raw_hh_1,raw_pp_1, left_on=[\"H_IDNUM\"],right_on=[\"PERIDNUM\"], how=\"left\")\n",
    "raw_cps_2 = pd.merge(raw_hh_2,raw_pp_2, left_on=[\"H_IDNUM\"],right_on=[\"PERIDNUM\"], how=\"left\")\n",
    "raw_cps_3 = pd.merge(raw_hh_3,raw_pp_3, left_on=[\"H_IDNUM\"],right_on=[\"PERIDNUM\"], how=\"left\")\n"
   ]
  },
  {
   "cell_type": "markdown",
   "id": "4ae2c279",
   "metadata": {},
   "source": [
    "# add in for 5yr analysis\n",
    "raw_cps_4 = pd.merge(raw_hh_4,raw_pp_4, left_on=[\"H_IDNUM\"],right_on=[\"PERIDNUM\"], how=\"left\")\n",
    "raw_cps_5 = pd.merge(raw_hh_5,raw_pp_5, left_on=[\"H_IDNUM\"],right_on=[\"PERIDNUM\"], how=\"left\")"
   ]
  },
  {
   "cell_type": "code",
   "execution_count": 26,
   "id": "c7e7ed75",
   "metadata": {
    "scrolled": true
   },
   "outputs": [],
   "source": [
    "gdp_deflator[\"DATE\"] = gdp_deflator[\"DATE\"].apply(date_clean)\n",
    "gdp_deflator[\"DATE\"] = gdp_deflator[\"DATE\"].astype(int)\n",
    "gdp_deflator.columns= [\"DATE\",\"DEFLATOR\"]"
   ]
  },
  {
   "cell_type": "code",
   "execution_count": 27,
   "id": "7ba87847",
   "metadata": {},
   "outputs": [],
   "source": [
    "current_deflator = gdp_deflator.iloc[-1][1]"
   ]
  },
  {
   "cell_type": "code",
   "execution_count": 28,
   "id": "319972b4",
   "metadata": {
    "scrolled": true
   },
   "outputs": [],
   "source": [
    "# Remove for 5 yr Analysis\n",
    "raw_cps_data_3yr = pd.concat([raw_cps_1, raw_cps_2, raw_cps_3])\n",
    "data_3yr = raw_cps_data_3yr[[\"H_YEAR\",\"GESTFIPS\",\"A_AGE\", \"A_SEX\", \"PRDTRACE\", \"A_MJIND\", \"PEMLR\", \"PRWKSTAT\", \"A_FTLF\", \"WSAL_VAL\", \"A_HGA\",\"WKSWORK\"]]"
   ]
  },
  {
   "cell_type": "markdown",
   "id": "bd241ff5",
   "metadata": {},
   "source": [
    "# Add in for 5 yr analysis\n",
    "aw_cps_data_5yr = pd.concat([raw_cps_1, raw_cps_2, raw_cps_3, raw_cps_4, raw_cps_5])\n",
    "data_5yr = raw_cps_data_3yr[[\"H_YEAR\",\"GESTFIPS\",\"A_AGE\", \"A_SEX\", \"PRDTRACE\", \"A_MJIND\", \"PEMLR\", \"PRWKSTAT\", \"A_FTLF\", \"WSAL_VAL\", \"A_HGA\",\"WKSWORK\"]]"
   ]
  },
  {
   "cell_type": "code",
   "execution_count": 29,
   "id": "19cd593d",
   "metadata": {},
   "outputs": [],
   "source": [
    "# now to convert the sex data into binary with 0 being female, 1 being male\n",
    "# also restricting analysis to only full time labor-force participants\n",
    "# unsure if we should do anything with Race, since there's a lot of combo races in this dataset.\n",
    "# in fact, there are 26 unique racial designations. I may just have to lump them.\n",
    "# Will lump A_HGA (highest educational attainment) into a few groups: less than hs, HS, some college,\n",
    "# ASSOC, BACH, MAST, PH.D, PROF. Also have column for education years."
   ]
  },
  {
   "cell_type": "code",
   "execution_count": 30,
   "id": "e40b1538",
   "metadata": {
    "scrolled": false
   },
   "outputs": [
    {
     "name": "stderr",
     "output_type": "stream",
     "text": [
      "C:\\Users\\michael.gilman\\AppData\\Local\\Temp\\ipykernel_24856\\3236722763.py:2: SettingWithCopyWarning: \n",
      "A value is trying to be set on a copy of a slice from a DataFrame.\n",
      "Try using .loc[row_indexer,col_indexer] = value instead\n",
      "\n",
      "See the caveats in the documentation: https://pandas.pydata.org/pandas-docs/stable/user_guide/indexing.html#returning-a-view-versus-a-copy\n",
      "  data_3yr[\"A_SEX\"]=(data_3yr[\"A_SEX\"]-2)*-1\n"
     ]
    }
   ],
   "source": [
    "# Remove for 5 yr Analysis\n",
    "data_3yr[\"A_SEX\"]=(data_3yr[\"A_SEX\"]-2)*-1\n",
    "data_ft_3yr = data_3yr[data_3yr[\"PEMLR\"]==1]\n",
    "data_3yr=data_3yr[data_3yr[\"PEMLR\"]==1]\n",
    "# PEMLR is the major laborforce recode which gives a more granular view of employment. 1 being employed,\n",
    "# both full and part time and other values indicating either absence, unemployed or not in labor force.\n",
    "data_ft_3yr = data_3yr[data_3yr[\"PRWKSTAT\"].isin([2,8,9])]\n",
    "data_3yr = data_3yr[data_3yr[\"PRWKSTAT\"].isin([2,3,4,6,7,8,9])]\n",
    "# PRWKSTAT is a specific work status, ranging from 0-12. there are different codings that relate to full\n",
    "# and part time employment, as well as unemployed. The above codes map to full time and part time.\n"
   ]
  },
  {
   "cell_type": "markdown",
   "id": "47fa43e0",
   "metadata": {},
   "source": [
    "# Add in for 5 yr analysis\n",
    "data_5yr[\"A_SEX\"]=(data_5yr[\"A_SEX\"]-2)*-1\n",
    "data_ft_5yr = data_5yr[data_5yr[\"PEMLR\"]==1]\n",
    "data_5yr=data_5yr[data_5yr[\"PEMLR\"]==1]\n",
    "data_ft_5yr = data_5yr[data_5yr[\"PRWKSTAT\"].isin([2,8,9])]\n",
    "data_5yr = data_5yr[data_5yr[\"PRWKSTAT\"].isin([2,3,4,6,7,8,9])]"
   ]
  },
  {
   "cell_type": "code",
   "execution_count": 31,
   "id": "04e3c2bd",
   "metadata": {},
   "outputs": [],
   "source": [
    "# Remove for 5 yr Analysis\n",
    "data_3yr= data_3yr[data_3yr[\"WSAL_VAL\"]!=0]\n",
    "data_3yr= data_3yr[data_3yr[\"WKSWORK\"]!=0]\n",
    "data_ft_3yr= data_ft_3yr[data_ft_3yr[\"WSAL_VAL\"]!=0]\n",
    "data_ft_3yr= data_ft_3yr[data_ft_3yr[\"WKSWORK\"]!=0]\n",
    "data_3yr= pd.merge(data_3yr,gdp_deflator, left_on=[\"H_YEAR\"],right_on=[\"DATE\"], how=\"left\")\n",
    "data_3yr[\"real_wage\"] = (data_3yr[\"WSAL_VAL\"]*data_3yr[\"DEFLATOR\"])/current_deflator"
   ]
  },
  {
   "cell_type": "markdown",
   "id": "da04f03c",
   "metadata": {},
   "source": [
    "# Add in for 5 yr analysis\n",
    "data_5yr= data_5yr[data_5yr[\"WSAL_VAL\"]!=0]\n",
    "data_5yr= data_5yr[data_5yr[\"WKSWORK\"]!=0]\n",
    "data_ft_5yr= data_ft_5yr[data_ft_5yr[\"WSAL_VAL\"]!=0]\n",
    "data_ft_5yr= data_ft_5yr[data_ft_5yr[\"WKSWORK\"]!=0]\n",
    "data_5yr= pd.merge(data_5yr,gdp_deflator, left_on=[\"H_YEAR\"],right_on=[\"DATE\"], how=\"left\")\n",
    "data_5yr[\"real_wage\"] = (data_5yr[\"WSAL_VAL\"]*data_5yr[\"DEFLATOR\"])/current_deflator\n",
    "data_5yr[\"real_wage\"] = (data_5yr[\"WSAL_VAL\"]*data_5yr[\"DEFLATOR\"])/current_deflator"
   ]
  },
  {
   "cell_type": "code",
   "execution_count": 32,
   "id": "5db934fc",
   "metadata": {},
   "outputs": [],
   "source": [
    "education_mapping={0:0, 31:1,32 :2.5, 33: 5.5, 34:7.5, 35:9, 36:10, 37:11, 38:11.5, 39: 12, 40: 13, 41:14, 42:14, 43:16, 44:18, 45:21, 46:21}\n",
    "ed_level_mapping = {0:\"<HS\", 1:\"<HS\", 2.5:\"<HS\", 5.5:\"<HS\", 7.5:\"<HS\", 9:\"<HS\", 10:\"<HS\", 11:\"<HS\", 11.5:\"<HS\", 12: \"HS\", 13: \"SomeColl\", 14:\"ASSOC\", 16:\"BACH\", 18:\"MAST\", 21:\"PHD\"}\n",
    "race_mapping = {1:1, 2:0, 3:0, 4:1, 5:0, 6:0, 7:0, 8:1, 9:0, 10:0, 11:0, 12:0, 13:0, 14:0, 15:0, 16:0, 17:0, 18:0, 19:0, 20:0, 21:0, 22:0, 23:0, 24:0, 25:0, 26:0}\n"
   ]
  },
  {
   "cell_type": "code",
   "execution_count": 33,
   "id": "b2aab323",
   "metadata": {},
   "outputs": [],
   "source": [
    "# Remove for 5 yr Analysis\n",
    "data_3yr[\"A_HGA\"]=data_3yr[\"A_HGA\"].map(education_mapping)\n",
    "data_ft_3yr[\"A_HGA\"]=data_ft_3yr[\"A_HGA\"].map(education_mapping)\n",
    "data_3yr[\"PRDTRACE\"] = data_3yr[\"PRDTRACE\"].map(race_mapping)\n",
    "data_ft_3yr[\"PRDTRACE\"] = data_ft_3yr[\"PRDTRACE\"].map(race_mapping)\n",
    "data_3yr.insert(6, \"Education Level\", data_3yr[\"A_HGA\"].map(ed_level_mapping))\n",
    "data_ft_3yr.insert(6, \"Education Level\", data_ft_3yr[\"A_HGA\"].map(ed_level_mapping))\n",
    "data_3yr[\"Experience\"] = data_3yr[\"A_AGE\"]-data_3yr[\"A_HGA\"]\n",
    "data_ft_3yr[\"Experience\"] = data_ft_3yr[\"A_AGE\"]-data_ft_3yr[\"A_HGA\"]\n",
    "data_3yr.rename(columns = {\"A_HGA\": \"Ed_Years\", \"PRDTRACE\": \"White\", \"A_SEX\":\"Male\", \"A_MJIND\":\"Ind\"}, inplace=True)\n",
    "data_ft_3yr.rename(columns = {\"A_HGA\": \"Ed_Years\", \"PRDTRACE\": \"White\", \"A_SEX\":\"Male\", \"A_MJIND\":\"Ind\"}, inplace=True)"
   ]
  },
  {
   "cell_type": "markdown",
   "id": "a6a2c918",
   "metadata": {},
   "source": [
    "# add in for 5 yr analysis\n",
    "data_5yr[\"A_HGA\"]=data_5yr[\"A_HGA\"].map(education_mapping)\n",
    "data_ft_5yr[\"A_HGA\"]=data_ft_5yr[\"A_HGA\"].map(education_mapping)\n",
    "data_5yr[\"PRDTRACE\"] = data_5yr[\"PRDTRACE\"].map(race_mapping)\n",
    "data_ft_5yr[\"PRDTRACE\"] = data_ft_5yr[\"PRDTRACE\"].map(race_mapping)\n",
    "data_5yr.insert(6, \"Education Level\", data_5yr[\"A_HGA\"].map(ed_level_mapping))\n",
    "data_ft_5yr.insert(6, \"Education Level\", data_ft_5yr[\"A_HGA\"].map(ed_level_mapping))\n",
    "data_5yr[\"Experience\"] = data_5yr[\"A_AGE\"]-data_5yr[\"A_HGA\"]\n",
    "data_ft_5yr[\"Experience\"] = data_ft_5yr[\"A_AGE\"]-data_ft_5yr[\"A_HGA\"]\n",
    "data_5yr.rename(columns = {\"A_HGA\": \"Ed_Years\", \"PRDTRACE\": \"White\", \"A_SEX\":\"Male\", \"A_MJIND\":\"Ind\"}, inplace=True)\n",
    "data_ft_5yr.rename(columns = {\"A_HGA\": \"Ed_Years\", \"PRDTRACE\": \"White\", \"A_SEX\":\"Male\", \"A_MJIND\":\"Ind\"}, inplace=True)"
   ]
  },
  {
   "cell_type": "markdown",
   "id": "985400a7",
   "metadata": {
    "scrolled": true
   },
   "source": [
    "for i in range(0,56):\n",
    "    print(data[data[\"FIPS\"]==i].shape, i)"
   ]
  },
  {
   "cell_type": "markdown",
   "id": "d39f1212",
   "metadata": {
    "scrolled": true
   },
   "source": [
    "print(data)"
   ]
  },
  {
   "cell_type": "code",
   "execution_count": 34,
   "id": "36db72a7",
   "metadata": {},
   "outputs": [],
   "source": [
    "# Remove for 5 year\n",
    "data_3yr.insert(2, \"Exp_sq\", data_3yr[\"Experience\"]**2)\n",
    "data_3yr.insert(3, \"Exp_cube\", data_3yr[\"Experience\"]**3)\n",
    "data_3yr.insert(4, \"Exp_quart\", data_3yr[\"Experience\"]**4)\n",
    "\n",
    "data_3yr = data_3yr.drop(data_3yr[data_3yr[\"real_wage\"] == \"(B)\"].index)\n",
    "\n",
    "data_3yr[\"log_wages\"] = data_3yr[\"real_wage\"].apply(lambda x: math.log(x))\n",
    "data_3yr.insert(8, \"Ed_Years_sq\", data_3yr[\"Ed_Years\"]**2)\n",
    "edDummy = pd.get_dummies(data_3yr[\"Education Level\"])\n",
    "\n",
    "data_3yr = pd.concat([data_3yr, edDummy], axis=1)\n",
    "data_3yr = data_3yr.drop(\"Education Level\", axis=1)\n",
    "\n",
    "data_3yr = data_3yr.astype(float)\n",
    "\n",
    "z = np.abs(stats.zscore(data_3yr[\"log_wages\"]))\n",
    "data_3yr.insert(1, \"Z_sal\", z)\n",
    "data_3yr= data_3yr[data_3yr[\"Z_sal\"]<3]\n",
    "\n",
    "model_qt = ols(\n",
    "    \"log_wages ~ Experience + Exp_sq + Exp_cube+ Exp_quart + Ed_Years+ Ed_Years_sq + White*(Experience + Exp_sq + Exp_cube + Exp_quart + Ed_Years + Ed_Years_sq) + Male*(Experience + Exp_sq + Exp_cube + Exp_quart + Ed_Years + Ed_Years_sq)\", data=data_3yr)\n",
    "results_qt=model_qt.fit()"
   ]
  },
  {
   "cell_type": "code",
   "execution_count": 35,
   "id": "a99e6732",
   "metadata": {},
   "outputs": [
    {
     "data": {
      "text/html": [
       "<table class=\"simpletable\">\n",
       "<caption>OLS Regression Results</caption>\n",
       "<tr>\n",
       "  <th>Dep. Variable:</th>        <td>log_wages</td>    <th>  R-squared:         </th>  <td>   0.326</td>  \n",
       "</tr>\n",
       "<tr>\n",
       "  <th>Model:</th>                   <td>OLS</td>       <th>  Adj. R-squared:    </th>  <td>   0.326</td>  \n",
       "</tr>\n",
       "<tr>\n",
       "  <th>Method:</th>             <td>Least Squares</td>  <th>  F-statistic:       </th>  <td>   4467.</td>  \n",
       "</tr>\n",
       "<tr>\n",
       "  <th>Date:</th>             <td>Wed, 28 Feb 2024</td> <th>  Prob (F-statistic):</th>   <td>  0.00</td>   \n",
       "</tr>\n",
       "<tr>\n",
       "  <th>Time:</th>                 <td>12:43:26</td>     <th>  Log-Likelihood:    </th> <td>-2.0144e+05</td>\n",
       "</tr>\n",
       "<tr>\n",
       "  <th>No. Observations:</th>      <td>184401</td>      <th>  AIC:               </th>  <td>4.029e+05</td> \n",
       "</tr>\n",
       "<tr>\n",
       "  <th>Df Residuals:</th>          <td>184380</td>      <th>  BIC:               </th>  <td>4.031e+05</td> \n",
       "</tr>\n",
       "<tr>\n",
       "  <th>Df Model:</th>              <td>    20</td>      <th>                     </th>      <td> </td>     \n",
       "</tr>\n",
       "<tr>\n",
       "  <th>Covariance Type:</th>      <td>nonrobust</td>    <th>                     </th>      <td> </td>     \n",
       "</tr>\n",
       "</table>\n",
       "<table class=\"simpletable\">\n",
       "<tr>\n",
       "          <td></td>             <th>coef</th>     <th>std err</th>      <th>t</th>      <th>P>|t|</th>  <th>[0.025</th>    <th>0.975]</th>  \n",
       "</tr>\n",
       "<tr>\n",
       "  <th>Intercept</th>         <td>    7.9807</td> <td>    0.089</td> <td>   89.623</td> <td> 0.000</td> <td>    7.806</td> <td>    8.155</td>\n",
       "</tr>\n",
       "<tr>\n",
       "  <th>Experience</th>        <td>    0.1387</td> <td>    0.008</td> <td>   16.627</td> <td> 0.000</td> <td>    0.122</td> <td>    0.155</td>\n",
       "</tr>\n",
       "<tr>\n",
       "  <th>Exp_sq</th>            <td>   -0.0045</td> <td>    0.000</td> <td>  -10.308</td> <td> 0.000</td> <td>   -0.005</td> <td>   -0.004</td>\n",
       "</tr>\n",
       "<tr>\n",
       "  <th>Exp_cube</th>          <td> 6.147e-05</td> <td> 9.06e-06</td> <td>    6.786</td> <td> 0.000</td> <td> 4.37e-05</td> <td> 7.92e-05</td>\n",
       "</tr>\n",
       "<tr>\n",
       "  <th>Exp_quart</th>         <td>-3.102e-07</td> <td>  6.4e-08</td> <td>   -4.851</td> <td> 0.000</td> <td>-4.36e-07</td> <td>-1.85e-07</td>\n",
       "</tr>\n",
       "<tr>\n",
       "  <th>Ed_Years</th>          <td>    0.0161</td> <td>    0.010</td> <td>    1.552</td> <td> 0.121</td> <td>   -0.004</td> <td>    0.037</td>\n",
       "</tr>\n",
       "<tr>\n",
       "  <th>Ed_Years_sq</th>       <td>    0.0042</td> <td>    0.000</td> <td>   11.575</td> <td> 0.000</td> <td>    0.003</td> <td>    0.005</td>\n",
       "</tr>\n",
       "<tr>\n",
       "  <th>White</th>             <td>   -0.1551</td> <td>    0.090</td> <td>   -1.733</td> <td> 0.083</td> <td>   -0.331</td> <td>    0.020</td>\n",
       "</tr>\n",
       "<tr>\n",
       "  <th>White:Experience</th>  <td>    0.0540</td> <td>    0.009</td> <td>    6.312</td> <td> 0.000</td> <td>    0.037</td> <td>    0.071</td>\n",
       "</tr>\n",
       "<tr>\n",
       "  <th>White:Exp_sq</th>      <td>   -0.0028</td> <td>    0.000</td> <td>   -6.282</td> <td> 0.000</td> <td>   -0.004</td> <td>   -0.002</td>\n",
       "</tr>\n",
       "<tr>\n",
       "  <th>White:Exp_cube</th>    <td> 5.845e-05</td> <td> 9.27e-06</td> <td>    6.302</td> <td> 0.000</td> <td> 4.03e-05</td> <td> 7.66e-05</td>\n",
       "</tr>\n",
       "<tr>\n",
       "  <th>White:Exp_quart</th>   <td>-4.186e-07</td> <td> 6.54e-08</td> <td>   -6.396</td> <td> 0.000</td> <td>-5.47e-07</td> <td> -2.9e-07</td>\n",
       "</tr>\n",
       "<tr>\n",
       "  <th>White:Ed_Years</th>    <td>   -0.0094</td> <td>    0.010</td> <td>   -0.913</td> <td> 0.361</td> <td>   -0.030</td> <td>    0.011</td>\n",
       "</tr>\n",
       "<tr>\n",
       "  <th>White:Ed_Years_sq</th> <td>    0.0003</td> <td>    0.000</td> <td>    0.834</td> <td> 0.404</td> <td>   -0.000</td> <td>    0.001</td>\n",
       "</tr>\n",
       "<tr>\n",
       "  <th>Male</th>              <td>   -0.1627</td> <td>    0.058</td> <td>   -2.796</td> <td> 0.005</td> <td>   -0.277</td> <td>   -0.049</td>\n",
       "</tr>\n",
       "<tr>\n",
       "  <th>Male:Experience</th>   <td>    0.0403</td> <td>    0.006</td> <td>    6.573</td> <td> 0.000</td> <td>    0.028</td> <td>    0.052</td>\n",
       "</tr>\n",
       "<tr>\n",
       "  <th>Male:Exp_sq</th>       <td>   -0.0010</td> <td>    0.000</td> <td>   -3.143</td> <td> 0.002</td> <td>   -0.002</td> <td>   -0.000</td>\n",
       "</tr>\n",
       "<tr>\n",
       "  <th>Male:Exp_cube</th>     <td> 9.977e-06</td> <td> 6.79e-06</td> <td>    1.469</td> <td> 0.142</td> <td>-3.33e-06</td> <td> 2.33e-05</td>\n",
       "</tr>\n",
       "<tr>\n",
       "  <th>Male:Exp_quart</th>    <td>-3.359e-08</td> <td> 4.84e-08</td> <td>   -0.693</td> <td> 0.488</td> <td>-1.29e-07</td> <td> 6.14e-08</td>\n",
       "</tr>\n",
       "<tr>\n",
       "  <th>Male:Ed_Years</th>     <td>    0.0199</td> <td>    0.006</td> <td>    3.123</td> <td> 0.002</td> <td>    0.007</td> <td>    0.032</td>\n",
       "</tr>\n",
       "<tr>\n",
       "  <th>Male:Ed_Years_sq</th>  <td>   -0.0011</td> <td>    0.000</td> <td>   -5.072</td> <td> 0.000</td> <td>   -0.002</td> <td>   -0.001</td>\n",
       "</tr>\n",
       "</table>\n",
       "<table class=\"simpletable\">\n",
       "<tr>\n",
       "  <th>Omnibus:</th>       <td>17264.184</td> <th>  Durbin-Watson:     </th> <td>   1.797</td> \n",
       "</tr>\n",
       "<tr>\n",
       "  <th>Prob(Omnibus):</th>  <td> 0.000</td>   <th>  Jarque-Bera (JB):  </th> <td>33272.598</td>\n",
       "</tr>\n",
       "<tr>\n",
       "  <th>Skew:</th>           <td>-0.634</td>   <th>  Prob(JB):          </th> <td>    0.00</td> \n",
       "</tr>\n",
       "<tr>\n",
       "  <th>Kurtosis:</th>       <td> 4.650</td>   <th>  Cond. No.          </th> <td>3.63e+08</td> \n",
       "</tr>\n",
       "</table><br/><br/>Notes:<br/>[1] Standard Errors assume that the covariance matrix of the errors is correctly specified.<br/>[2] The condition number is large, 3.63e+08. This might indicate that there are<br/>strong multicollinearity or other numerical problems."
      ],
      "text/latex": [
       "\\begin{center}\n",
       "\\begin{tabular}{lclc}\n",
       "\\toprule\n",
       "\\textbf{Dep. Variable:}      &    log\\_wages    & \\textbf{  R-squared:         } &      0.326   \\\\\n",
       "\\textbf{Model:}              &       OLS        & \\textbf{  Adj. R-squared:    } &      0.326   \\\\\n",
       "\\textbf{Method:}             &  Least Squares   & \\textbf{  F-statistic:       } &      4467.   \\\\\n",
       "\\textbf{Date:}               & Wed, 28 Feb 2024 & \\textbf{  Prob (F-statistic):} &      0.00    \\\\\n",
       "\\textbf{Time:}               &     12:43:26     & \\textbf{  Log-Likelihood:    } & -2.0144e+05  \\\\\n",
       "\\textbf{No. Observations:}   &      184401      & \\textbf{  AIC:               } &  4.029e+05   \\\\\n",
       "\\textbf{Df Residuals:}       &      184380      & \\textbf{  BIC:               } &  4.031e+05   \\\\\n",
       "\\textbf{Df Model:}           &          20      & \\textbf{                     } &              \\\\\n",
       "\\textbf{Covariance Type:}    &    nonrobust     & \\textbf{                     } &              \\\\\n",
       "\\bottomrule\n",
       "\\end{tabular}\n",
       "\\begin{tabular}{lcccccc}\n",
       "                             & \\textbf{coef} & \\textbf{std err} & \\textbf{t} & \\textbf{P$> |$t$|$} & \\textbf{[0.025} & \\textbf{0.975]}  \\\\\n",
       "\\midrule\n",
       "\\textbf{Intercept}           &       7.9807  &        0.089     &    89.623  &         0.000        &        7.806    &        8.155     \\\\\n",
       "\\textbf{Experience}          &       0.1387  &        0.008     &    16.627  &         0.000        &        0.122    &        0.155     \\\\\n",
       "\\textbf{Exp\\_sq}             &      -0.0045  &        0.000     &   -10.308  &         0.000        &       -0.005    &       -0.004     \\\\\n",
       "\\textbf{Exp\\_cube}           &    6.147e-05  &     9.06e-06     &     6.786  &         0.000        &     4.37e-05    &     7.92e-05     \\\\\n",
       "\\textbf{Exp\\_quart}          &   -3.102e-07  &      6.4e-08     &    -4.851  &         0.000        &    -4.36e-07    &    -1.85e-07     \\\\\n",
       "\\textbf{Ed\\_Years}           &       0.0161  &        0.010     &     1.552  &         0.121        &       -0.004    &        0.037     \\\\\n",
       "\\textbf{Ed\\_Years\\_sq}       &       0.0042  &        0.000     &    11.575  &         0.000        &        0.003    &        0.005     \\\\\n",
       "\\textbf{White}               &      -0.1551  &        0.090     &    -1.733  &         0.083        &       -0.331    &        0.020     \\\\\n",
       "\\textbf{White:Experience}    &       0.0540  &        0.009     &     6.312  &         0.000        &        0.037    &        0.071     \\\\\n",
       "\\textbf{White:Exp\\_sq}       &      -0.0028  &        0.000     &    -6.282  &         0.000        &       -0.004    &       -0.002     \\\\\n",
       "\\textbf{White:Exp\\_cube}     &    5.845e-05  &     9.27e-06     &     6.302  &         0.000        &     4.03e-05    &     7.66e-05     \\\\\n",
       "\\textbf{White:Exp\\_quart}    &   -4.186e-07  &     6.54e-08     &    -6.396  &         0.000        &    -5.47e-07    &     -2.9e-07     \\\\\n",
       "\\textbf{White:Ed\\_Years}     &      -0.0094  &        0.010     &    -0.913  &         0.361        &       -0.030    &        0.011     \\\\\n",
       "\\textbf{White:Ed\\_Years\\_sq} &       0.0003  &        0.000     &     0.834  &         0.404        &       -0.000    &        0.001     \\\\\n",
       "\\textbf{Male}                &      -0.1627  &        0.058     &    -2.796  &         0.005        &       -0.277    &       -0.049     \\\\\n",
       "\\textbf{Male:Experience}     &       0.0403  &        0.006     &     6.573  &         0.000        &        0.028    &        0.052     \\\\\n",
       "\\textbf{Male:Exp\\_sq}        &      -0.0010  &        0.000     &    -3.143  &         0.002        &       -0.002    &       -0.000     \\\\\n",
       "\\textbf{Male:Exp\\_cube}      &    9.977e-06  &     6.79e-06     &     1.469  &         0.142        &    -3.33e-06    &     2.33e-05     \\\\\n",
       "\\textbf{Male:Exp\\_quart}     &   -3.359e-08  &     4.84e-08     &    -0.693  &         0.488        &    -1.29e-07    &     6.14e-08     \\\\\n",
       "\\textbf{Male:Ed\\_Years}      &       0.0199  &        0.006     &     3.123  &         0.002        &        0.007    &        0.032     \\\\\n",
       "\\textbf{Male:Ed\\_Years\\_sq}  &      -0.0011  &        0.000     &    -5.072  &         0.000        &       -0.002    &       -0.001     \\\\\n",
       "\\bottomrule\n",
       "\\end{tabular}\n",
       "\\begin{tabular}{lclc}\n",
       "\\textbf{Omnibus:}       & 17264.184 & \\textbf{  Durbin-Watson:     } &     1.797  \\\\\n",
       "\\textbf{Prob(Omnibus):} &    0.000  & \\textbf{  Jarque-Bera (JB):  } & 33272.598  \\\\\n",
       "\\textbf{Skew:}          &   -0.634  & \\textbf{  Prob(JB):          } &      0.00  \\\\\n",
       "\\textbf{Kurtosis:}      &    4.650  & \\textbf{  Cond. No.          } &  3.63e+08  \\\\\n",
       "\\bottomrule\n",
       "\\end{tabular}\n",
       "%\\caption{OLS Regression Results}\n",
       "\\end{center}\n",
       "\n",
       "Notes: \\newline\n",
       " [1] Standard Errors assume that the covariance matrix of the errors is correctly specified. \\newline\n",
       " [2] The condition number is large, 3.63e+08. This might indicate that there are \\newline\n",
       " strong multicollinearity or other numerical problems."
      ],
      "text/plain": [
       "<class 'statsmodels.iolib.summary.Summary'>\n",
       "\"\"\"\n",
       "                            OLS Regression Results                            \n",
       "==============================================================================\n",
       "Dep. Variable:              log_wages   R-squared:                       0.326\n",
       "Model:                            OLS   Adj. R-squared:                  0.326\n",
       "Method:                 Least Squares   F-statistic:                     4467.\n",
       "Date:                Wed, 28 Feb 2024   Prob (F-statistic):               0.00\n",
       "Time:                        12:43:26   Log-Likelihood:            -2.0144e+05\n",
       "No. Observations:              184401   AIC:                         4.029e+05\n",
       "Df Residuals:                  184380   BIC:                         4.031e+05\n",
       "Df Model:                          20                                         \n",
       "Covariance Type:            nonrobust                                         \n",
       "=====================================================================================\n",
       "                        coef    std err          t      P>|t|      [0.025      0.975]\n",
       "-------------------------------------------------------------------------------------\n",
       "Intercept             7.9807      0.089     89.623      0.000       7.806       8.155\n",
       "Experience            0.1387      0.008     16.627      0.000       0.122       0.155\n",
       "Exp_sq               -0.0045      0.000    -10.308      0.000      -0.005      -0.004\n",
       "Exp_cube           6.147e-05   9.06e-06      6.786      0.000    4.37e-05    7.92e-05\n",
       "Exp_quart         -3.102e-07    6.4e-08     -4.851      0.000   -4.36e-07   -1.85e-07\n",
       "Ed_Years              0.0161      0.010      1.552      0.121      -0.004       0.037\n",
       "Ed_Years_sq           0.0042      0.000     11.575      0.000       0.003       0.005\n",
       "White                -0.1551      0.090     -1.733      0.083      -0.331       0.020\n",
       "White:Experience      0.0540      0.009      6.312      0.000       0.037       0.071\n",
       "White:Exp_sq         -0.0028      0.000     -6.282      0.000      -0.004      -0.002\n",
       "White:Exp_cube     5.845e-05   9.27e-06      6.302      0.000    4.03e-05    7.66e-05\n",
       "White:Exp_quart   -4.186e-07   6.54e-08     -6.396      0.000   -5.47e-07    -2.9e-07\n",
       "White:Ed_Years       -0.0094      0.010     -0.913      0.361      -0.030       0.011\n",
       "White:Ed_Years_sq     0.0003      0.000      0.834      0.404      -0.000       0.001\n",
       "Male                 -0.1627      0.058     -2.796      0.005      -0.277      -0.049\n",
       "Male:Experience       0.0403      0.006      6.573      0.000       0.028       0.052\n",
       "Male:Exp_sq          -0.0010      0.000     -3.143      0.002      -0.002      -0.000\n",
       "Male:Exp_cube      9.977e-06   6.79e-06      1.469      0.142   -3.33e-06    2.33e-05\n",
       "Male:Exp_quart    -3.359e-08   4.84e-08     -0.693      0.488   -1.29e-07    6.14e-08\n",
       "Male:Ed_Years         0.0199      0.006      3.123      0.002       0.007       0.032\n",
       "Male:Ed_Years_sq     -0.0011      0.000     -5.072      0.000      -0.002      -0.001\n",
       "==============================================================================\n",
       "Omnibus:                    17264.184   Durbin-Watson:                   1.797\n",
       "Prob(Omnibus):                  0.000   Jarque-Bera (JB):            33272.598\n",
       "Skew:                          -0.634   Prob(JB):                         0.00\n",
       "Kurtosis:                       4.650   Cond. No.                     3.63e+08\n",
       "==============================================================================\n",
       "\n",
       "Notes:\n",
       "[1] Standard Errors assume that the covariance matrix of the errors is correctly specified.\n",
       "[2] The condition number is large, 3.63e+08. This might indicate that there are\n",
       "strong multicollinearity or other numerical problems.\n",
       "\"\"\""
      ]
     },
     "execution_count": 35,
     "metadata": {},
     "output_type": "execute_result"
    }
   ],
   "source": [
    "results_qt.summary()"
   ]
  },
  {
   "cell_type": "markdown",
   "id": "bc61106a",
   "metadata": {},
   "source": [
    "# Add for 5 year\n",
    "data_5yr.insert(2, \"Exp_sq\", data_5yr[\"Experience\"]**2)\n",
    "data_5yr.insert(3, \"Exp_cube\", data_5yr[\"Experience\"]**3)\n",
    "data_5yr.insert(4, \"Exp_quart\", data_5yr[\"Experience\"]**4)\n",
    "\n",
    "data_5yr = data_5yr.drop(data_5yr[data_5yr[\"real_wage\"] == \"(B)\"].index)\n",
    "\n",
    "data_5yr[\"log_wages\"] = data_5yr[\"real_wage\"].apply(lambda x: math.log(x))\n",
    "data_5yr.insert(8, \"Ed_Years_sq\", data_5yr[\"Ed_Years\"]**2)\n",
    "edDummy = pd.get_dummies(data_5yr[\"Education Level\"])\n",
    "\n",
    "data_5yr = pd.concat([data_5yr, edDummy], axis=1)\n",
    "data_5yr = data_5yr.drop(\"Education Level\", axis=1)\n",
    "\n",
    "data_5yr = data_5yr.astype(float)\n",
    "\n",
    "z = np.abs(stats.zscore(data_5yr[\"log_wages\"]))\n",
    "data_5yr.insert(1, \"Z_sal\", z)\n",
    "data_5yr= data_5yr[data_5yr[\"Z_sal\"]<3]\n",
    "\n",
    "model_qt = ols(\n",
    "    \"log_wages ~ Experience + Exp_sq + Exp_cube+ Exp_quart + Ed_Years+ Ed_Years_sq + White*(Experience + Exp_sq + Exp_cube + Exp_quart + Ed_Years + Ed_Years_sq) + Male*(Experience + Exp_sq + Exp_cube + Exp_quart + Ed_Years + Ed_Years_sq)\", data=data_5yr)\n",
    "results_qt=model_qt.fit()"
   ]
  },
  {
   "cell_type": "markdown",
   "id": "cc65ac48",
   "metadata": {},
   "source": [
    "data.head()"
   ]
  },
  {
   "cell_type": "markdown",
   "id": "5723d605",
   "metadata": {
    "scrolled": true
   },
   "source": [
    "data[\"log_wages\"].describe()"
   ]
  },
  {
   "cell_type": "markdown",
   "id": "c98ae960",
   "metadata": {},
   "source": [
    "data.shape"
   ]
  },
  {
   "cell_type": "markdown",
   "id": "81a61ba7",
   "metadata": {
    "scrolled": true
   },
   "source": [
    "z = np.abs(stats.zscore(data[\"annual_log_wages\"]))\n",
    "data.insert(1, \"Z_annual\", z)\n",
    "data= data[data[\"Z_annual\"]<3]\n",
    "data.shape"
   ]
  },
  {
   "cell_type": "markdown",
   "id": "1e4b6f6d",
   "metadata": {},
   "source": [
    "data[\"log_wages\"].describe()"
   ]
  },
  {
   "cell_type": "markdown",
   "id": "e3588483",
   "metadata": {},
   "source": [
    "data[\"annual_log_wages\"].describe()"
   ]
  },
  {
   "cell_type": "markdown",
   "id": "8ae172ad",
   "metadata": {},
   "source": [
    "data_ft_3yr.insert(2, \"Exp_sq\", data_ft_3yr[\"Experience\"]**2)\n",
    "data_ft_3yr.insert(3, \"Exp_cube\", data_ft_3yr[\"Experience\"]**3)\n",
    "data_ft_3yr.insert(4, \"Exp_quart\", data_ft_3yr[\"Experience\"]**4)\n",
    "\n",
    "data_ft_3yr = data_ft_3yr.drop(data_ft_3yr[data_ft_3yr[\"real_wage\"] == \"(B)\"].index)\n",
    "\n",
    "data_ft_3yr[\"log_wages\"] = data_ft_3yr[\"real_wage\"].apply(lambda x: math.log(x))\n",
    "data_ft_3yr.insert(8, \"Ed_Years_sq\", data_ft_3yr[\"Ed_Years\"]**2)\n",
    "edDummy = pd.get_dummies(data_ft_3yr[\"Education Level\"])\n",
    "\n",
    "data_ft_3yr = pd.concat([data_ft_3yr, edDummy], axis=1)\n",
    "data_ft_3yr = data_ft_3yr.drop(\"Education Level\", axis=1)\n",
    "data_ft_3yr = data_ft_3yr.astype(float)"
   ]
  },
  {
   "cell_type": "markdown",
   "id": "755e0ac4",
   "metadata": {},
   "source": [
    "data_ft_5yr.insert(2, \"Exp_sq\", data_ft_5yr[\"Experience\"]**2)\n",
    "data_ft_5yr.insert(3, \"Exp_cube\", data_ft_5yr[\"Experience\"]**3)\n",
    "data_ft_5yr.insert(4, \"Exp_quart\", data_ft_5yr[\"Experience\"]**4)\n",
    "\n",
    "data_ft_5yr = data_ft_5yr.drop(data_ft_5yr[data_ft_5yr[\"real_wage\"] == \"(B)\"].index)\n",
    "\n",
    "data_ft_5yr[\"log_wages\"] = data_ft_5yr[\"real_wage\"].apply(lambda x: math.log(x))\n",
    "data_ft_5yr[\"annual_log_wages\"] = data_ft_5yr[\"annual_wage\"].apply(lambda x: math.log(x))\n",
    "data_ft_5yr.insert(8, \"Ed_Years_sq\", data_ft_5yr[\"Ed_Years\"]**2)\n",
    "edDummy = pd.get_dummies(data_ft_5yr[\"Education Level\"])\n",
    "\n",
    "data_ft_5yr = pd.concat([data_ft_5yr, edDummy], axis=1)\n",
    "data_ft_5yr = data_ft_5yr.drop(\"Education Level\", axis=1)\n",
    "data_ft_5yr = data_ft_5yr.astype(float)"
   ]
  },
  {
   "cell_type": "markdown",
   "id": "4383d4d8",
   "metadata": {},
   "source": [
    "z = np.abs(stats.zscore(data_ft_3yr[\"log_wages\"]))\n",
    "z.describe()\n",
    "data_ft_3yr.insert(1, \"Z_sal\", z)\n",
    "data_ft_3yr= data_ft_3yr[data_ft_3yr[\"Z_sal\"]<3]\n",
    "data_ft_3yr.shape"
   ]
  },
  {
   "cell_type": "markdown",
   "id": "443cdbd6",
   "metadata": {},
   "source": [
    "z = np.abs(stats.zscore(data_ft_5yr[\"annual_log_wages\"]))\n",
    "z.describe()\n",
    "data_ft_5yr.insert(1, \"Z_annual\", z)\n",
    "data_ft_5yr= data_ft_5yr[data_ft_5yr[\"Z_annual\"]<3]\n",
    "data_ft_5yr.shape"
   ]
  },
  {
   "cell_type": "markdown",
   "id": "578e2383",
   "metadata": {},
   "source": [
    "data_w = data[data[\"White\"]==1]\n",
    "data_wm = data_w[data_w[\"Male\"]==1]\n",
    "data_wm_hs = data_wm[data_wm[\"Ed_Years\"]==12]\n",
    "data_wm_assoc = data_wm[data_wm[\"Ed_Years\"]==14]\n",
    "data_wm_bach = data_wm[data_wm[\"Ed_Years\"]==16]\n",
    "data_wm_mast = data_wm[data_wm[\"Ed_Years\"]==21]\n",
    "\n",
    "data_wf = data_w[data_w[\"Male\"]==0]\n",
    "data_wf_hs = data_wf[data_wf[\"Ed_Years\"]==12]\n",
    "data_wf_assoc = data_wf[data_wf[\"Ed_Years\"]==14]\n",
    "data_wf_bach = data_wf[data_wf[\"Ed_Years\"]==16]\n",
    "data_wf_mast = data_wf[data_wf[\"Ed_Years\"]==21]\n",
    "\n",
    "data_b = data[data[\"White\"]==0]\n",
    "data_bm = data_b[data_b[\"Male\"]==1]\n",
    "data_bm_hs = data_bm[data_bm[\"Ed_Years\"]==12]\n",
    "data_bm_assoc = data_bm[data_bm[\"Ed_Years\"]==14]\n",
    "data_bm_bach = data_bm[data_bm[\"Ed_Years\"]==16]\n",
    "data_bm_mast = data_bm[data_bm[\"Ed_Years\"]==21]\n",
    "\n",
    "data_bf = data_b[data_b[\"Male\"]==0]\n",
    "data_bf_hs = data_bf[data_bf[\"Ed_Years\"]==12]\n",
    "data_bf_assoc = data_bf[data_bf[\"Ed_Years\"]==14]\n",
    "data_bf_bach = data_bf[data_bf[\"Ed_Years\"]==16]\n",
    "data_bf_mast = data_bf[data_bf[\"Ed_Years\"]==21]"
   ]
  },
  {
   "cell_type": "markdown",
   "id": "c6cb1faa",
   "metadata": {},
   "source": [
    "X = data[[\"Experience\", \"Exp_sq\", \"Exp_cube\", \"Exp_quart\", \"Ed_Years\", \"Ed_Years_sq\", \"White\", \"Male\"]]\n",
    "Y = data[\"real_wage\"]\n",
    "Y_annual = data[\"annual_wage\"]\n",
    "X_ft = data_ft[[\"Experience\", \"Exp_sq\", \"Exp_cube\", \"Exp_quart\", \"Ed_Years\", \"Ed_Years_sq\", \"White\", \"Male\"]]\n",
    "Y_ft = data_ft[\"real_wage\"]\n",
    "Y_ft_annual = data_ft[\"annual_wage\"]"
   ]
  },
  {
   "cell_type": "markdown",
   "id": "c7626e16",
   "metadata": {
    "scrolled": true
   },
   "source": [
    "sns.pairplot(X[[\"Experience\", \"Ed_Years\"]]) "
   ]
  },
  {
   "cell_type": "markdown",
   "id": "e8bd83e7",
   "metadata": {},
   "source": [
    "model_cu = ols(\n",
    "    \"log_wages ~ Experience + Exp_sq + Exp_cube + Ed_Years+ Ed_Years_sq + White*(Experience + Exp_sq + Exp_cube + Ed_Years + Ed_Years_sq) + Male*(Experience + Exp_sq + Exp_cube + Ed_Years + Ed_Years_sq)\", data=data)\n",
    "model_sq = ols(\n",
    "    \"log_wages ~ Experience + Exp_sq + Ed_Years+ Ed_Years_sq + White*(Experience + Exp_sq + Ed_Years + Ed_Years_sq) + Male*(Experience + Exp_sq + Ed_Years + Ed_Years_sq)\", data=data)\n",
    "model_qt_ft = ols(\n",
    "    \"log_wages ~ Experience + Exp_sq + Exp_cube + Exp_quart + Ed_Years+ Ed_Years_sq + White*(Experience + Exp_sq + Exp_cube + Exp_quart + Ed_Years + Ed_Years_sq) + Male*(Experience + Exp_sq + Exp_cube + Exp_quart + Ed_Years + Ed_Years_sq)\", data=data_ft)\n",
    "model_cu_ft = ols(\n",
    "    \"log_wages ~ Experience + Exp_sq + Exp_cube + Ed_Years+ Ed_Years_sq + White*(Experience + Exp_sq + Exp_cube + Ed_Years + Ed_Years_sq) + Male*(Experience + Exp_sq + Exp_cube + Ed_Years + Ed_Years_sq)\", data=data_ft)\n",
    "model_sq_ft = ols(\n",
    "    \"log_wages ~ Experience + Exp_sq + Ed_Years+ Ed_Years_sq + White*(Experience + Exp_sq + Ed_Years + Ed_Years_sq) + Male*(Experience + Exp_sq + Ed_Years + Ed_Years_sq)\", data=data_ft)"
   ]
  },
  {
   "cell_type": "markdown",
   "id": "4b67024a",
   "metadata": {},
   "source": [
    "model_qt_annual = ols(\n",
    "    \"annual_log_wages ~ Experience + Exp_sq + Exp_cube+ Exp_quart + Ed_Years+ Ed_Years_sq + White*(Experience + Exp_sq + Exp_cube + Exp_quart + Ed_Years + Ed_Years_sq) + Male*(Experience + Exp_sq + Exp_cube + Exp_quart + Ed_Years + Ed_Years_sq)\", data=data)\n",
    "model_cu_annual = ols(\n",
    "    \"annual_log_wages ~ Experience + Exp_sq + Exp_cube + Ed_Years+ Ed_Years_sq + White*(Experience + Exp_sq + Exp_cube + Ed_Years + Ed_Years_sq) + Male*(Experience + Exp_sq + Exp_cube + Ed_Years + Ed_Years_sq)\", data=data)\n",
    "model_sq_annual = ols(\n",
    "    \"annual_log_wages ~ Experience + Exp_sq + Ed_Years+ Ed_Years_sq + White*(Experience + Exp_sq + Ed_Years + Ed_Years_sq) + Male*(Experience + Exp_sq + Ed_Years + Ed_Years_sq)\", data=data)\n",
    "model_qt_ft_annual = ols(\n",
    "    \"annual_log_wages ~ Experience + Exp_sq + Exp_cube + Exp_quart + Ed_Years+ Ed_Years_sq + White*(Experience + Exp_sq + Exp_cube + Exp_quart + Ed_Years + Ed_Years_sq) + Male*(Experience + Exp_sq + Exp_cube + Exp_quart + Ed_Years + Ed_Years_sq)\", data=data_ft)\n",
    "model_cu_ft_annual = ols(\n",
    "    \"annual_log_wages ~ Experience + Exp_sq + Exp_cube + Ed_Years+ Ed_Years_sq + White*(Experience + Exp_sq + Exp_cube + Ed_Years + Ed_Years_sq) + Male*(Experience + Exp_sq + Exp_cube + Ed_Years + Ed_Years_sq)\", data=data_ft)\n",
    "model_sq_ft_annual = ols(\n",
    "    \"annual_log_wages ~ Experience + Exp_sq + Ed_Years+ Ed_Years_sq + White*(Experience + Exp_sq + Ed_Years + Ed_Years_sq) + Male*(Experience + Exp_sq + Ed_Years + Ed_Years_sq)\", data=data_ft)"
   ]
  },
  {
   "cell_type": "markdown",
   "id": "ccf5c579",
   "metadata": {},
   "source": [
    "model_wm_qt = ols(\n",
    "    \"log_wages ~ Experience + Exp_sq + Exp_cube+ Exp_quart + Ed_Years+ Ed_Years_sq\", data=data_wm)\n",
    "model_wm_cu = ols(\n",
    "    \"log_wages ~ Experience + Exp_sq + Exp_cube + Ed_Years+ Ed_Years_sq\", data=data_wm)\n",
    "model_wm_sq = ols(\n",
    "    \"log_wages ~ Experience + Exp_sq + Ed_Years+ Ed_Years_sq\", data=data_wm)\n",
    "\n",
    "model_bm_qt = ols(\n",
    "    \"log_wages ~ Experience + Exp_sq + Exp_cube + Exp_quart + Ed_Years+ Ed_Years_sq\", data=data_bm)\n",
    "model_bm_cu = ols(\n",
    "    \"log_wages ~ Experience + Exp_sq + Exp_cube + Ed_Years+ Ed_Years_sq\", data=data_bm)\n",
    "model_bm_sq = ols(\n",
    "    \"log_wages ~ Experience + Exp_sq + Ed_Years+ Ed_Years_sq\", data=data_bm)\n",
    "\n",
    "model_wf_qt = ols(\n",
    "    \"log_wages ~ Experience + Exp_sq + Exp_cube + Exp_quart + Ed_Years+ Ed_Years_sq\", data=data_wf)\n",
    "model_wf_cu = ols(\n",
    "    \"log_wages ~ Experience + Exp_sq + Exp_cube + Ed_Years + Ed_Years_sq\", data=data_wf)\n",
    "model_wf_sq = ols(\n",
    "    \"log_wages ~ Experience + Exp_sq + Ed_Years\", data=data_wf)\n",
    "\n",
    "model_bf_qt = ols(\n",
    "    \"log_wages ~ Experience + Exp_sq + Exp_cube + Exp_quart + Ed_Years+ Ed_Years_sq\", data=data_bf)\n",
    "model_bf_cu = ols(\n",
    "    \"log_wages ~ Experience + Exp_sq + Exp_cube + Ed_Years+ Ed_Years_sq\", data=data_bf)\n",
    "model_bf_sq = ols(\n",
    "    \"log_wages ~ Experience + Exp_sq + Ed_Years+ Ed_Years_sq\", data=data_bf)"
   ]
  },
  {
   "cell_type": "markdown",
   "id": "3f2b0e4a",
   "metadata": {},
   "source": [
    "model_wm_qt_annual = ols(\n",
    "    \"annual_log_wages ~ Experience + Exp_sq + Exp_cube+ Exp_quart + Ed_Years+ Ed_Years_sq\", data=data_wm)\n",
    "model_wm_cu_annual = ols(\n",
    "    \"annual_log_wages ~ Experience + Exp_sq + Exp_cube + Ed_Years+ Ed_Years_sq\", data=data_wm)\n",
    "model_wm_sq_annual = ols(\n",
    "    \"annual_log_wages ~ Experience + Exp_sq + Ed_Years+ Ed_Years_sq\", data=data_wm)\n",
    "\n",
    "model_bm_qt_annual = ols(\n",
    "    \"annual_log_wages ~ Experience + Exp_sq + Exp_cube + Exp_quart + Ed_Years+ Ed_Years_sq\", data=data_bm)\n",
    "model_bm_cu_annual = ols(\n",
    "    \"annual_log_wages ~ Experience + Exp_sq + Exp_cube + Ed_Years+ Ed_Years_sq\", data=data_bm)\n",
    "model_bm_sq_annual = ols(\n",
    "    \"annual_log_wages ~ Experience + Exp_sq + Ed_Years+ Ed_Years_sq\", data=data_bm)\n",
    "\n",
    "model_wf_qt_annual = ols(\n",
    "    \"annual_log_wages ~ Experience + Exp_sq + Exp_cube + Exp_quart + Ed_Years+ Ed_Years_sq\", data=data_wf)\n",
    "model_wf_cu_annual = ols(\n",
    "    \"annual_log_wages ~ Experience + Exp_sq + Exp_cube + Ed_Years + Ed_Years_sq\", data=data_wf)\n",
    "model_wf_sq_annual = ols(\n",
    "    \"annual_log_wages ~ Experience + Exp_sq + Ed_Years\", data=data_wf)\n",
    "\n",
    "model_bf_qt_annual = ols(\n",
    "    \"annual_log_wages ~ Experience + Exp_sq + Exp_cube + Exp_quart + Ed_Years+ Ed_Years_sq\", data=data_bf)\n",
    "model_bf_cu_annual = ols(\n",
    "    \"annual_log_wages ~ Experience + Exp_sq + Exp_cube + Ed_Years+ Ed_Years_sq\", data=data_bf)\n",
    "model_bf_sq_annual = ols(\n",
    "    \"annual_log_wages ~ Experience + Exp_sq + Ed_Years+ Ed_Years_sq\", data=data_bf)"
   ]
  },
  {
   "cell_type": "markdown",
   "id": "688e1400",
   "metadata": {},
   "source": [
    "results_qt = model_qt.fit()\n"
   ]
  },
  {
   "cell_type": "markdown",
   "id": "a128a99d",
   "metadata": {},
   "source": [
    "results_cu = model_cu.fit()\n",
    "results_sq = model_sq.fit()"
   ]
  },
  {
   "cell_type": "markdown",
   "id": "d1d586af",
   "metadata": {},
   "source": [
    "results_qt_annual = model_qt.fit()\n",
    "results_cu_annual = model_cu.fit()\n",
    "results_sq_annual = model_sq.fit()"
   ]
  },
  {
   "cell_type": "markdown",
   "id": "cdf4c546",
   "metadata": {},
   "source": [
    "results_qt_ft = model_qt_ft.fit()\n",
    "results_cu_ft = model_cu_ft.fit()\n",
    "results_sq_ft = model_sq_ft.fit()"
   ]
  },
  {
   "cell_type": "markdown",
   "id": "694e05c9",
   "metadata": {},
   "source": [
    "results_qt_ft_annual = model_qt_ft.fit()\n",
    "results_cu_ft_annual = model_cu_ft.fit()\n",
    "results_sq_ft_annual = model_sq_ft.fit()"
   ]
  },
  {
   "cell_type": "markdown",
   "id": "f81c92f4",
   "metadata": {
    "scrolled": true
   },
   "source": [
    "fig , axs = plt.subplots(2, 2)\n",
    "axs[0,0].scatter(range(0, len(results_qt.resid)), results_qt.resid, s=.1)\n",
    "axs[0,0].set_title(\"Salary\")\n",
    "\n",
    "sns.distplot(results_qt.resid, fit=stats.norm ,ax = axs[1,0])\n",
    "\n",
    "axs[0,1].scatter(range(0, len(results_qt_annual.resid)), results_qt_annual.resid, s=.1)\n",
    "axs[0,1].set_title(\"Annual\")\n",
    "sns.distplot(results_qt_annual.resid, fit=stats.norm, ax=axs[1,1])"
   ]
  },
  {
   "cell_type": "markdown",
   "id": "a45a640f",
   "metadata": {
    "scrolled": true
   },
   "source": [
    "print(results_qt.summary2())\n",
    "print(results_cu.summary2())\n",
    "print(results_sq.summary2())"
   ]
  },
  {
   "cell_type": "markdown",
   "id": "c1c82e85",
   "metadata": {},
   "source": [
    "print(results_qt_annual.summary2())\n",
    "print(results_cu_annual.summary2())\n",
    "print(results_sq_annual.summary2())"
   ]
  },
  {
   "cell_type": "markdown",
   "id": "af1276cc",
   "metadata": {
    "scrolled": true
   },
   "source": [
    "print(results_qt_ft.summary2())\n",
    "print(results_cu_ft.summary2())\n",
    "print(results_sq_ft.summary2())"
   ]
  },
  {
   "cell_type": "markdown",
   "id": "0425d667",
   "metadata": {},
   "source": [
    "print(results_qt_ft_annual.summary2())\n",
    "print(results_cu_ft_annual.summary2())\n",
    "print(results_sq_ft_annual.summary2())"
   ]
  },
  {
   "cell_type": "markdown",
   "id": "5e75eede",
   "metadata": {},
   "source": [
    "exp_yrs = list(range(0,70))\n",
    "ed_year = 14\n",
    "x_data = []\n",
    "for i in exp_yrs:\n",
    "    x_data.append([i, i**2, i**3, i**4, ed_year, ed_year**2, 1, 1])\n",
    "x_df=pd.DataFrame(x_data, columns = [\"Experience\", \"Exp_sq\", \"Exp_cube\", \"Exp_quart\", \"Ed_Years\", \"Ed_Years_sq\", \"White\", \"Male\"])\n",
    "# this should provide a df to fit our model to give an idea of what the curve looks like for\n",
    "# varying experience levels.\n",
    "x_df"
   ]
  },
  {
   "cell_type": "markdown",
   "id": "6112bfe5",
   "metadata": {
    "scrolled": true
   },
   "source": [
    "math.e**results_qt.predict(x_df)"
   ]
  },
  {
   "cell_type": "markdown",
   "id": "163ee3bf",
   "metadata": {},
   "source": [
    "math.e**results_qt_annual.predict(x_df)"
   ]
  },
  {
   "cell_type": "markdown",
   "id": "5569fe8f",
   "metadata": {},
   "source": [
    "math.e**results_qt_ft.predict(x_df)"
   ]
  },
  {
   "cell_type": "markdown",
   "id": "28376fae",
   "metadata": {},
   "source": [
    "math.e**results_qt_ft_annual.predict(x_df)"
   ]
  },
  {
   "cell_type": "markdown",
   "id": "696fc95a",
   "metadata": {},
   "source": [
    "results_wm_qt = model_wm_qt.fit()\n",
    "results_wm_cu = model_wm_cu.fit()\n",
    "results_wm_sq = model_wm_sq.fit()\n",
    "results_bm_qt = model_bm_qt.fit()\n",
    "results_bm_cu = model_bm_cu.fit()\n",
    "results_bm_sq = model_bm_sq.fit()\n",
    "results_wf_qt = model_wf_qt.fit()\n",
    "results_wf_cu = model_wf_cu.fit()\n",
    "results_wf_sq = model_wf_sq.fit()\n",
    "results_bf_qt = model_bf_qt.fit()\n",
    "results_bf_cu = model_bf_cu.fit()\n",
    "results_bf_sq = model_bf_sq.fit()"
   ]
  },
  {
   "cell_type": "markdown",
   "id": "45d77a7d",
   "metadata": {},
   "source": [
    "results_wm_qt_annual = model_wm_qt_annual.fit()\n",
    "results_wm_cu_annual = model_wm_cu_annual.fit()\n",
    "results_wm_sq_annual = model_wm_sq_annual.fit()\n",
    "results_bm_qt_annual = model_bm_qt_annual.fit()\n",
    "results_bm_cu_annual = model_bm_cu_annual.fit()\n",
    "results_bm_sq_annual = model_bm_sq_annual.fit()\n",
    "results_wf_qt_annual = model_wf_qt_annual.fit()\n",
    "results_wf_cu_annual = model_wf_cu_annual.fit()\n",
    "results_wf_sq_annual = model_wf_sq_annual.fit()\n",
    "results_bf_qt_annual = model_bf_qt_annual.fit()\n",
    "results_bf_cu_annual = model_bf_cu_annual.fit()\n",
    "results_bf_sq_annual = model_bf_sq_annual.fit()"
   ]
  },
  {
   "cell_type": "markdown",
   "id": "aa6acaf4",
   "metadata": {
    "scrolled": false
   },
   "source": [
    "print(\"Quartic\"); print(results_wm_qt.summary())\n",
    "print(\"Cubic\"); print(results_wm_cu.summary())\n",
    "print(\"Quadratic\"); print(results_wm_sq.summary())"
   ]
  },
  {
   "cell_type": "markdown",
   "id": "ba1a0100",
   "metadata": {
    "scrolled": false
   },
   "source": [
    "fig, axs = plt.subplots(1, 3)\n",
    "axs[0].scatter(range(0, len(results_wm_qt.resid)), results_wm_qt.resid, s=5)\n",
    "axs[0].title.set_text(\"quartic WM Resid\")\n",
    "axs[1].scatter(range(0, len(results_wm_cu.resid)), results_wm_cu.resid, s=5)\n",
    "axs[1].title.set_text(\"cubic all WM Resid\")\n",
    "axs[2].scatter(range(0, len(results_wm_sq.resid)), results_wm_sq.resid, s=5)\n",
    "axs[2].title.set_text(\"square all WM Resid\")"
   ]
  },
  {
   "cell_type": "markdown",
   "id": "aa9a638d",
   "metadata": {},
   "source": [
    "sns.distplot(results_wm_qt.resid, fit=stats.norm)"
   ]
  },
  {
   "cell_type": "markdown",
   "id": "ddd1676c",
   "metadata": {
    "scrolled": false
   },
   "source": [
    "print(\"Quartic\"); print(results_bm_qt.summary())\n",
    "print(\"Cubic\"); print(results_bm_cu.summary())\n",
    "print(\"Quadratic\"); print(results_bm_sq.summary())"
   ]
  },
  {
   "cell_type": "markdown",
   "id": "757393fa",
   "metadata": {
    "scrolled": true
   },
   "source": [
    "fig, axs = plt.subplots(1, 3)\n",
    "axs[0].scatter(range(0, len(results_bm_qt.resid)), results_bm_qt.resid, s=5)\n",
    "axs[0].title.set_text(\"quartic BM Resid\")\n",
    "axs[1].scatter(range(0, len(results_bm_cu.resid)), results_bm_cu.resid, s=5)\n",
    "axs[1].title.set_text(\"cubic all BM Resid\")\n",
    "axs[2].scatter(range(0, len(results_bm_sq.resid)), results_bm_sq.resid, s=5)\n",
    "axs[2].title.set_text(\"square all BM Resid\")"
   ]
  },
  {
   "cell_type": "markdown",
   "id": "568d29cd",
   "metadata": {},
   "source": [
    "sns.distplot(results_bm_qt.resid, fit=stats.norm)"
   ]
  },
  {
   "cell_type": "markdown",
   "id": "f79c8da2",
   "metadata": {
    "scrolled": false
   },
   "source": [
    "print(\"Quartic\"); print(results_wf_qt.summary())\n",
    "print(\"Cubic\"); print(results_wf_cu.summary())\n",
    "print(\"Quadratic\"); print(results_wf_sq.summary())"
   ]
  },
  {
   "cell_type": "markdown",
   "id": "c5ae9980",
   "metadata": {
    "scrolled": true
   },
   "source": [
    "fig, axs = plt.subplots(1, 3)\n",
    "axs[0].scatter(range(0, len(results_wf_qt.resid)), results_wf_qt.resid, s=5)\n",
    "axs[0].title.set_text(\"quartic WF Resid\")\n",
    "axs[1].scatter(range(0, len(results_wf_cu.resid)), results_wf_cu.resid, s=5)\n",
    "axs[1].title.set_text(\"cubic all WF Resid\")\n",
    "axs[2].scatter(range(0, len(results_wf_sq.resid)), results_wf_sq.resid, s=5)\n",
    "axs[2].title.set_text(\"square all WF Resid\")"
   ]
  },
  {
   "cell_type": "markdown",
   "id": "4fb1a696",
   "metadata": {},
   "source": [
    "sns.distplot(results_wf_qt.resid, fit=stats.norm)"
   ]
  },
  {
   "cell_type": "markdown",
   "id": "11a26d71",
   "metadata": {
    "scrolled": false
   },
   "source": [
    "print(\"Quartic\"); print(results_bf_qt.summary())\n",
    "print(\"Cubic\"); print(results_bf_cu.summary())\n",
    "print(\"Quadratic\"); print(results_bf_sq.summary())"
   ]
  },
  {
   "cell_type": "code",
   "execution_count": 36,
   "id": "f0838e3b",
   "metadata": {},
   "outputs": [],
   "source": [
    "# Quartic model is the highest explanatory power."
   ]
  },
  {
   "cell_type": "markdown",
   "id": "3b7ba671",
   "metadata": {},
   "source": [
    "wm_exp_coef = results_wm_cu.summary2().tables[1][\"Coef.\"][1:4]\n",
    "bm_exp_coef = results_bm_cu.summary2().tables[1][\"Coef.\"][1:4]\n",
    "wf_exp_coef = results_wf_cu.summary2().tables[1][\"Coef.\"][1:4]\n",
    "bf_exp_coef = results_bf_cu.summary2().tables[1][\"Coef.\"][1:4]"
   ]
  },
  {
   "cell_type": "code",
   "execution_count": 37,
   "id": "bb37fb47",
   "metadata": {},
   "outputs": [],
   "source": [
    "# this is where we're checking to see if the coefficients are significantly different between different\n",
    "# race/sex combinations. it turns out they're all significantly different, and as such, we should\n",
    "# have specific models for each race/sex combination."
   ]
  },
  {
   "cell_type": "markdown",
   "id": "48a4d7da",
   "metadata": {},
   "source": [
    "print(\"wm compared to bm\")\n",
    "print(results_wm_cu.wald_test(\n",
    "    '(Experience={0}, Exp_sq={1}, Exp_cube={2})'.format(*(list(bm_exp_coef)))))\n",
    "print(\"wm compared to wf\")\n",
    "print(results_wm_cu.wald_test(\n",
    "    '(Experience={0}, Exp_sq={1}, Exp_cube={2})'.format(*(list(wf_exp_coef)))))\n",
    "print(\"wm compared to bf\")\n",
    "print(results_wm_cu.wald_test(\n",
    "    '(Experience={0}, Exp_sq={1}, Exp_cube={2})'.format(*(list(bf_exp_coef)))))\n",
    "print(\"bm compared to wf\")\n",
    "print(results_bm_cu.wald_test(\n",
    "    '(Experience={0}, Exp_sq={1}, Exp_cube={2})'.format(*(list(wf_exp_coef)))))\n",
    "print(\"bm compared to bf\")\n",
    "print(results_bm_cu.wald_test(\n",
    "    '(Experience={0}, Exp_sq={1}, Exp_cube={2})'.format(*(list(bf_exp_coef)))))\n",
    "print(\"wf compared to bf\")\n",
    "print(results_wf_cu.wald_test(\n",
    "    '(Experience={0}, Exp_sq={1}, Exp_cube={2})'.format(*(list(bf_exp_coef)))))"
   ]
  },
  {
   "cell_type": "code",
   "execution_count": 38,
   "id": "1b6986fe",
   "metadata": {},
   "outputs": [],
   "source": [
    "# this is an example of what the model will predict."
   ]
  },
  {
   "cell_type": "markdown",
   "id": "7a552759",
   "metadata": {},
   "source": [
    "exp_yrs = list(range(0,70))\n",
    "ed_year = 12\n",
    "x_data = []\n",
    "for i in exp_yrs:\n",
    "    x_data.append([i, i**2, i**3, i**4, ed_year, ed_year**2])\n",
    "x_df=pd.DataFrame(x_data, columns = [\"Experience\", \"Exp_sq\", \"Exp_cube\", \"Exp_quart\", \"Ed_Years\", \"Ed_Years_sq\"])\n",
    "# this should provide a df to fit our model to give an idea of what the curve looks like for\n",
    "# varying experience levels.\n",
    "x_df"
   ]
  },
  {
   "cell_type": "markdown",
   "id": "f414be22",
   "metadata": {},
   "source": [
    "d = data_wm_hs"
   ]
  },
  {
   "cell_type": "markdown",
   "id": "707d979b",
   "metadata": {
    "scrolled": false
   },
   "source": [
    "sns.scatterplot(y = d[\"log_wages\"], x = d[\"Experience\"], s=5)\n",
    "sns.lineplot(color=\"red\", y = results_wm_qt.predict(x_df), x= x_df[\"Experience\"])\n",
    "sns.lineplot(color=\"green\", y = results_wm_qt_annual.predict(x_df), x=x_df[\"Experience\"])\n",
    "plt.show()\n",
    "#this is how the curve looks for white males with a HS diploma"
   ]
  },
  {
   "cell_type": "markdown",
   "id": "376cd78b",
   "metadata": {},
   "source": [
    "exp_yrs = list(range(0,70))\n",
    "ed_year = 14\n",
    "x_data = []\n",
    "for i in exp_yrs:\n",
    "    x_data.append([i, i**2, i**3, i**4, ed_year, ed_year**2])\n",
    "x_df=pd.DataFrame(x_data, columns = [\"Experience\", \"Exp_sq\", \"Exp_cube\", \"Exp_quart\", \"Ed_Years\", \"Ed_Years_sq\"])\n",
    "# this should provide a df to fit our model to give an idea of what the curve looks like for\n",
    "# varying experience levels."
   ]
  },
  {
   "cell_type": "markdown",
   "id": "5500d05d",
   "metadata": {},
   "source": [
    "d = data_wm_assoc"
   ]
  },
  {
   "cell_type": "markdown",
   "id": "0157fd3a",
   "metadata": {},
   "source": [
    "sns.scatterplot(y = d[\"log_wages\"], x = d[\"Experience\"], s=10)\n",
    "sns.lineplot(color=\"red\", y = results_wm_qt.predict(x_df), x= x_df[\"Experience\"])\n",
    "sns.lineplot(color=\"green\", y = results_wm_qt_annual.predict(x_df), x= x_df[\"Experience\"])\n",
    "plt.show()\n",
    "# what it looks like for white males with ASSOC"
   ]
  },
  {
   "cell_type": "markdown",
   "id": "3c1137bb",
   "metadata": {},
   "source": [
    "exp_yrs = list(range(0,70))\n",
    "ed_year = 16\n",
    "x_data = []\n",
    "for i in exp_yrs:\n",
    "    x_data.append([i, i**2, i**3, i**4, ed_year, ed_year**2])\n",
    "x_df=pd.DataFrame(x_data, columns = [\"Experience\", \"Exp_sq\", \"Exp_cube\", \"Exp_quart\", \"Ed_Years\", \"Ed_Years_sq\"])\n",
    "# this should provide a df to fit our model to give an idea of what the curve looks like for\n",
    "# varying experience levels."
   ]
  },
  {
   "cell_type": "markdown",
   "id": "0e72bb23",
   "metadata": {},
   "source": [
    "d = data_wm_bach"
   ]
  },
  {
   "cell_type": "markdown",
   "id": "3672dbfe",
   "metadata": {
    "scrolled": true
   },
   "source": [
    "sns.scatterplot(y = d[\"log_wages\"], x = d[\"Experience\"], s=10)\n",
    "sns.lineplot(color=\"red\", y = results_wm_qt.predict(x_df), x= x_df[\"Experience\"])\n",
    "sns.lineplot(color=\"green\", y=results_wf_qt.predict(x_df), x= x_df[\"Experience\"])\n",
    "plt.show()\n",
    "# this is themodel fit on white male bachelor's The forms are somewhat similar for other "
   ]
  },
  {
   "cell_type": "markdown",
   "id": "ad821357",
   "metadata": {},
   "source": [
    "math.e**results_wf_qt.predict(x_df)"
   ]
  },
  {
   "cell_type": "markdown",
   "id": "262bc773",
   "metadata": {},
   "source": [
    "Using ACS in model, can we compare between this data and ACS data?\n",
    "Earnings that come in are midpoint, at age of 43 in raw data tab. \n",
    "can we maybe use this data throughout? \n",
    "\n",
    "Compare with Pauls stuff.\n",
    "\n",
    "compare to PSEO as well, also state specific data on kansas data\n",
    "\n",
    "include fulltime and part-time."
   ]
  },
  {
   "cell_type": "markdown",
   "id": "f1e2c7df",
   "metadata": {},
   "source": [
    "#since PSEO uses full time workers, to compare, we will also. PSEO for Colorado says 1 yr out of an\n",
    "# associates is $35,272, so let's see what our model says, we'll also compare the growth between 1\n",
    "# 5 and 10 years post grad.\n",
    "data_ft_co = data_ft[data_ft[\"FIPS\"]==36]\n",
    "#data_ft_co_assoc = data_ft_co[data_ft_co[\"Ed_Years\"]==14]\n",
    "model_data = data_ft_co[[\"log_wages\",\"Experience\", \"Exp_sq\", \"Exp_cube\", \"Exp_quart\", \"Ed_Years\", \"Ed_Years_sq\"]]\n",
    "ft_co_model = ols(\n",
    "    \"log_wages ~ Experience + Exp_sq + Exp_cube+ Exp_quart + Ed_Years+ Ed_Years_sq\", data=model_data)\n",
    "annual_model_data = data_ft_co[[\"annual_log_wages\",\"Experience\", \"Exp_sq\", \"Exp_cube\", \"Exp_quart\", \"Ed_Years\", \"Ed_Years_sq\"]]\n",
    "annual_ft_co_model = ols(\n",
    "    \"annual_log_wages ~ Experience + Exp_sq + Exp_cube+ Exp_quart + Ed_Years+ Ed_Years_sq\", data=annual_model_data)"
   ]
  },
  {
   "cell_type": "markdown",
   "id": "44605308",
   "metadata": {},
   "source": [
    "ft_co_results = ft_co_model.fit()\n",
    "ft_co_results.summary()"
   ]
  },
  {
   "cell_type": "markdown",
   "id": "0c4baae6",
   "metadata": {},
   "source": [
    "age_yrs = list(range(18,70))\n",
    "ed_year = 14\n",
    "x_data = []\n",
    "for i in exp_yrs:\n",
    "    x_data.append([1,i, i**2, i**3, i**4, ed_year, ed_year**2])\n",
    "x_df=pd.DataFrame(x_data, columns = [\"Intercept\",\"Experience\", \"Exp_sq\", \"Exp_cube\", \"Exp_quart\", \"Ed_Years\", \"Ed_Years_sq\"])\n",
    "# this should provide a df to fit our model to give an idea of what the curve looks like for\n",
    "# varying experience levels."
   ]
  },
  {
   "cell_type": "markdown",
   "id": "922cc425",
   "metadata": {},
   "source": [
    "ft_co_results.params"
   ]
  },
  {
   "cell_type": "markdown",
   "id": "9faf2d73",
   "metadata": {},
   "source": [
    "predict = ft_co_model.predict(params = ft_co_results.params,exog=x_df)\n",
    "print(math.e**predict[1], math.e**predict[5], math.e**predict[10])"
   ]
  },
  {
   "cell_type": "markdown",
   "id": "1f39a4a4",
   "metadata": {},
   "source": [
    "sns.scatterplot(y = model_data[\"log_wages\"], x = model_data[\"Experience\"], s=10)\n",
    "sns.lineplot(color=\"red\", y = ft_co_results.predict(x_df), x= x_df[\"Experience\"])\n"
   ]
  },
  {
   "cell_type": "code",
   "execution_count": 39,
   "id": "a8aeacae",
   "metadata": {},
   "outputs": [],
   "source": [
    "# All below remains no matter what.\n",
    "exp_yrs = list(range(-8,53))\n",
    "ed_year = 12\n",
    "x_data_wm = []\n",
    "for i in exp_yrs:\n",
    "    x_data_wm.append([i, i**2, i**3, i**4, ed_year, ed_year**2, 1, 1])\n",
    "x_wm_df=pd.DataFrame(x_data_wm, columns = [\"Experience\", \"Exp_sq\", \"Exp_cube\", \"Exp_quart\", \"Ed_Years\", \"Ed_Years_sq\", \"White\", \"Male\"])\n",
    "# this should provide a df for white males with a hs level education across experience levels used in the model\n",
    "# We will create 3 other df's to use to create vectors for the other groups.\n",
    "# in the model we will weighted average these.\n"
   ]
  },
  {
   "cell_type": "code",
   "execution_count": 40,
   "id": "4c7f5e3f",
   "metadata": {},
   "outputs": [],
   "source": [
    "x_data_bm = []\n",
    "for i in exp_yrs:\n",
    "    x_data_bm.append([i, i**2, i**3, i**4, ed_year, ed_year**2, 0, 1])\n",
    "x_bm_df=pd.DataFrame(x_data_bm, columns = [\"Experience\", \"Exp_sq\", \"Exp_cube\", \"Exp_quart\", \"Ed_Years\", \"Ed_Years_sq\", \"White\", \"Male\"])"
   ]
  },
  {
   "cell_type": "code",
   "execution_count": 41,
   "id": "7fd2c6f5",
   "metadata": {},
   "outputs": [],
   "source": [
    "x_data_wf = []\n",
    "for i in exp_yrs:\n",
    "    x_data_wf.append([i, i**2, i**3, i**4, ed_year, ed_year**2, 1, 0])\n",
    "x_wf_df=pd.DataFrame(x_data_wf, columns = [\"Experience\", \"Exp_sq\", \"Exp_cube\", \"Exp_quart\", \"Ed_Years\", \"Ed_Years_sq\", \"White\", \"Male\"])"
   ]
  },
  {
   "cell_type": "code",
   "execution_count": 42,
   "id": "0729421d",
   "metadata": {},
   "outputs": [],
   "source": [
    "x_data_bf = []\n",
    "for i in exp_yrs:\n",
    "    x_data_bf.append([i, i**2, i**3, i**4, ed_year, ed_year**2, 0, 0])\n",
    "x_bf_df=pd.DataFrame(x_data_bf, columns = [\"Experience\", \"Exp_sq\", \"Exp_cube\", \"Exp_quart\", \"Ed_Years\", \"Ed_Years_sq\", \"White\", \"Male\"])"
   ]
  },
  {
   "cell_type": "code",
   "execution_count": 43,
   "id": "bf262077",
   "metadata": {},
   "outputs": [],
   "source": [
    "wm_log_wage_predict = results_qt.predict(x_wm_df)\n",
    "wm_earn_predict = math.e**wm_log_wage_predict\n",
    "\n",
    "bm_log_wage_predict = results_qt.predict(x_bm_df)\n",
    "bm_earn_predict = math.e**bm_log_wage_predict\n",
    "\n",
    "wf_log_wage_predict = results_qt.predict(x_wf_df)\n",
    "wf_earn_predict = math.e**wf_log_wage_predict\n",
    "\n",
    "bf_log_wage_predict = results_qt.predict(x_bf_df)\n",
    "bf_earn_predict = math.e**bf_log_wage_predict\n",
    "\n",
    "hs_earnings = pd.DataFrame({\"WM Earnings\":wm_earn_predict,\"BM Earnings\":bm_earn_predict, \"WF Earnings\":wf_earn_predict, \"BF Earnings\":bf_earn_predict})\n",
    "# hs_earnings.to_csv(r\"G:\\Shared drives\\EDU Consulting - Private\\Michael\\Mincer\\code\\output\\hs_earnings.csv\")"
   ]
  },
  {
   "cell_type": "code",
   "execution_count": 46,
   "id": "e13bf176",
   "metadata": {},
   "outputs": [
    {
     "data": {
      "text/plain": [
       "WM Earnings    49401.257759\n",
       "BM Earnings    44291.591719\n",
       "WF Earnings    32057.221356\n",
       "BF Earnings    28741.481985\n",
       "Name: 34, dtype: float64"
      ]
     },
     "execution_count": 46,
     "metadata": {},
     "output_type": "execute_result"
    }
   ],
   "source": [
    "hs_earnings.iloc[34]"
   ]
  },
  {
   "cell_type": "code",
   "execution_count": 47,
   "id": "48c79a46",
   "metadata": {},
   "outputs": [],
   "source": [
    "exp_yrs = list(range(-8,53))\n",
    "ed_year = 14\n",
    "x_data_wm = []\n",
    "for i in exp_yrs:\n",
    "    x_data_wm.append([i, i**2, i**3, i**4, ed_year, ed_year**2, 1, 1])\n",
    "x_wm_df=pd.DataFrame(x_data_wm, columns = [\"Experience\", \"Exp_sq\", \"Exp_cube\", \"Exp_quart\", \"Ed_Years\", \"Ed_Years_sq\", \"White\", \"Male\"])\n",
    "# this should provide a df for white males with an assoc level education across experience levels used in the model\n",
    "# We will create 3 other df's to use to create vectors for the other groups.\n",
    "# in the model we will weighted average these.\n"
   ]
  },
  {
   "cell_type": "code",
   "execution_count": 48,
   "id": "a2e10c52",
   "metadata": {},
   "outputs": [],
   "source": [
    "x_data_bm = []\n",
    "for i in exp_yrs:\n",
    "    x_data_bm.append([i, i**2, i**3, i**4, ed_year, ed_year**2, 0, 1])\n",
    "x_bm_df=pd.DataFrame(x_data_bm, columns = [\"Experience\", \"Exp_sq\", \"Exp_cube\", \"Exp_quart\", \"Ed_Years\", \"Ed_Years_sq\", \"White\", \"Male\"])"
   ]
  },
  {
   "cell_type": "code",
   "execution_count": 49,
   "id": "819eea72",
   "metadata": {},
   "outputs": [],
   "source": [
    "x_data_wf = []\n",
    "for i in exp_yrs:\n",
    "    x_data_wf.append([i, i**2, i**3, i**4, ed_year, ed_year**2, 1, 0])\n",
    "x_wf_df=pd.DataFrame(x_data_wf, columns = [\"Experience\", \"Exp_sq\", \"Exp_cube\", \"Exp_quart\", \"Ed_Years\", \"Ed_Years_sq\", \"White\", \"Male\"])"
   ]
  },
  {
   "cell_type": "code",
   "execution_count": 50,
   "id": "8300310c",
   "metadata": {},
   "outputs": [],
   "source": [
    "x_data_bf = []\n",
    "for i in exp_yrs:\n",
    "    x_data_bf.append([i, i**2, i**3, i**4, ed_year, ed_year**2, 0, 0])\n",
    "x_bf_df=pd.DataFrame(x_data_bf, columns = [\"Experience\", \"Exp_sq\", \"Exp_cube\", \"Exp_quart\", \"Ed_Years\", \"Ed_Years_sq\", \"White\", \"Male\"])"
   ]
  },
  {
   "cell_type": "code",
   "execution_count": 51,
   "id": "6f811ca2",
   "metadata": {},
   "outputs": [],
   "source": [
    "wm_log_wage_predict = results_qt.predict(x_wm_df)\n",
    "wm_earn_predict = math.e**wm_log_wage_predict\n",
    "\n",
    "bm_log_wage_predict = results_qt.predict(x_bm_df)\n",
    "bm_earn_predict = math.e**bm_log_wage_predict\n",
    "\n",
    "wf_log_wage_predict = results_qt.predict(x_wf_df)\n",
    "wf_earn_predict = math.e**wf_log_wage_predict\n",
    "\n",
    "bf_log_wage_predict = results_qt.predict(x_bf_df)\n",
    "bf_earn_predict = math.e**bf_log_wage_predict\n",
    "\n",
    "assoc_earnings = pd.DataFrame({\"WM Earnings\":wm_earn_predict,\"BM Earnings\":bm_earn_predict, \"WF Earnings\":wf_earn_predict, \"BF Earnings\":bf_earn_predict})\n",
    "# assoc_earnings.to_csv(r\"G:\\Shared drives\\EDU Consulting - Private\\Michael\\Mincer\\code\\output\\assoc_earnings.csv\")"
   ]
  },
  {
   "cell_type": "code",
   "execution_count": 52,
   "id": "e25d29bf",
   "metadata": {},
   "outputs": [],
   "source": [
    "exp_yrs = list(range(-8,53))\n",
    "ed_year = 16\n",
    "x_data_wm = []\n",
    "for i in exp_yrs:\n",
    "    x_data_wm.append([i, i**2, i**3, i**4, ed_year, ed_year**2, 1, 1])\n",
    "x_wm_df=pd.DataFrame(x_data_wm, columns = [\"Experience\", \"Exp_sq\", \"Exp_cube\", \"Exp_quart\", \"Ed_Years\", \"Ed_Years_sq\", \"White\", \"Male\"])\n",
    "\n",
    "x_data_bm = []\n",
    "for i in exp_yrs:\n",
    "    x_data_bm.append([i, i**2, i**3, i**4, ed_year, ed_year**2, 0, 1])\n",
    "x_bm_df=pd.DataFrame(x_data_bm, columns = [\"Experience\", \"Exp_sq\", \"Exp_cube\", \"Exp_quart\", \"Ed_Years\", \"Ed_Years_sq\", \"White\", \"Male\"])\n",
    "\n",
    "x_data_wf = []\n",
    "for i in exp_yrs:\n",
    "    x_data_wf.append([i, i**2, i**3, i**4, ed_year, ed_year**2, 1, 0])\n",
    "x_wf_df=pd.DataFrame(x_data_wf, columns = [\"Experience\", \"Exp_sq\", \"Exp_cube\", \"Exp_quart\", \"Ed_Years\", \"Ed_Years_sq\", \"White\", \"Male\"])\n",
    "\n",
    "x_data_bf = []\n",
    "for i in exp_yrs:\n",
    "    x_data_bf.append([i, i**2, i**3, i**4, ed_year, ed_year**2, 0, 0])\n",
    "x_bf_df=pd.DataFrame(x_data_bf, columns = [\"Experience\", \"Exp_sq\", \"Exp_cube\", \"Exp_quart\", \"Ed_Years\", \"Ed_Years_sq\", \"White\", \"Male\"])"
   ]
  },
  {
   "cell_type": "code",
   "execution_count": 53,
   "id": "ed8516db",
   "metadata": {},
   "outputs": [],
   "source": [
    "wm_log_wage_predict = results_qt.predict(x_wm_df)\n",
    "wm_earn_predict = math.e**wm_log_wage_predict\n",
    "\n",
    "bm_log_wage_predict = results_qt.predict(x_bm_df)\n",
    "bm_earn_predict = math.e**bm_log_wage_predict\n",
    "\n",
    "wf_log_wage_predict = results_qt.predict(x_wf_df)\n",
    "wf_earn_predict = math.e**wf_log_wage_predict\n",
    "\n",
    "bf_log_wage_predict = results_qt.predict(x_bf_df)\n",
    "bf_earn_predict = math.e**bf_log_wage_predict\n",
    "\n",
    "bach_earnings = pd.DataFrame({\"WM Earnings\":wm_earn_predict,\"BM Earnings\":bm_earn_predict, \"WF Earnings\":wf_earn_predict, \"BF Earnings\":bf_earn_predict})"
   ]
  },
  {
   "cell_type": "code",
   "execution_count": 54,
   "id": "24e3887b",
   "metadata": {},
   "outputs": [],
   "source": [
    "exp_yrs = list(range(-8,53))\n",
    "ed_year = 18\n",
    "x_data_wm = []\n",
    "for i in exp_yrs:\n",
    "    x_data_wm.append([i, i**2, i**3, i**4, ed_year, ed_year**2, 1, 1])\n",
    "x_wm_df=pd.DataFrame(x_data_wm, columns = [\"Experience\", \"Exp_sq\", \"Exp_cube\", \"Exp_quart\", \"Ed_Years\", \"Ed_Years_sq\", \"White\", \"Male\"])\n",
    "\n",
    "x_data_bm = []\n",
    "for i in exp_yrs:\n",
    "    x_data_bm.append([i, i**2, i**3, i**4, ed_year, ed_year**2, 0, 1])\n",
    "x_bm_df=pd.DataFrame(x_data_bm, columns = [\"Experience\", \"Exp_sq\", \"Exp_cube\", \"Exp_quart\", \"Ed_Years\", \"Ed_Years_sq\", \"White\", \"Male\"])\n",
    "\n",
    "x_data_wf = []\n",
    "for i in exp_yrs:\n",
    "    x_data_wf.append([i, i**2, i**3, i**4, ed_year, ed_year**2, 1, 0])\n",
    "x_wf_df=pd.DataFrame(x_data_wf, columns = [\"Experience\", \"Exp_sq\", \"Exp_cube\", \"Exp_quart\", \"Ed_Years\", \"Ed_Years_sq\", \"White\", \"Male\"])\n",
    "\n",
    "x_data_bf = []\n",
    "for i in exp_yrs:\n",
    "    x_data_bf.append([i, i**2, i**3, i**4, ed_year, ed_year**2, 0, 0])\n",
    "x_bf_df=pd.DataFrame(x_data_bf, columns = [\"Experience\", \"Exp_sq\", \"Exp_cube\", \"Exp_quart\", \"Ed_Years\", \"Ed_Years_sq\", \"White\", \"Male\"])"
   ]
  },
  {
   "cell_type": "code",
   "execution_count": 55,
   "id": "650b8d7c",
   "metadata": {},
   "outputs": [],
   "source": [
    "wm_log_wage_predict = results_qt.predict(x_wm_df)\n",
    "wm_earn_predict = math.e**wm_log_wage_predict\n",
    "\n",
    "bm_log_wage_predict = results_qt.predict(x_bm_df)\n",
    "bm_earn_predict = math.e**bm_log_wage_predict\n",
    "\n",
    "wf_log_wage_predict = results_qt.predict(x_wf_df)\n",
    "wf_earn_predict = math.e**wf_log_wage_predict\n",
    "\n",
    "bf_log_wage_predict = results_qt.predict(x_bf_df)\n",
    "bf_earn_predict = math.e**bf_log_wage_predict\n",
    "\n",
    "mast_earnings = pd.DataFrame({\"WM Earnings\":wm_earn_predict,\"BM Earnings\":bm_earn_predict, \"WF Earnings\":wf_earn_predict, \"BF Earnings\":bf_earn_predict})"
   ]
  },
  {
   "cell_type": "code",
   "execution_count": 56,
   "id": "758b7547",
   "metadata": {},
   "outputs": [],
   "source": [
    "exp_yrs = list(range(-8,53))\n",
    "ed_year = 20\n",
    "x_data_wm = []\n",
    "for i in exp_yrs:\n",
    "    x_data_wm.append([i, i**2, i**3, i**4, ed_year, ed_year**2, 1, 1])\n",
    "x_wm_df=pd.DataFrame(x_data_wm, columns = [\"Experience\", \"Exp_sq\", \"Exp_cube\", \"Exp_quart\", \"Ed_Years\", \"Ed_Years_sq\", \"White\", \"Male\"])\n",
    "\n",
    "x_data_bm = []\n",
    "for i in exp_yrs:\n",
    "    x_data_bm.append([i, i**2, i**3, i**4, ed_year, ed_year**2, 0, 1])\n",
    "x_bm_df=pd.DataFrame(x_data_bm, columns = [\"Experience\", \"Exp_sq\", \"Exp_cube\", \"Exp_quart\", \"Ed_Years\", \"Ed_Years_sq\", \"White\", \"Male\"])\n",
    "\n",
    "x_data_wf = []\n",
    "for i in exp_yrs:\n",
    "    x_data_wf.append([i, i**2, i**3, i**4, ed_year, ed_year**2, 1, 0])\n",
    "x_wf_df=pd.DataFrame(x_data_wf, columns = [\"Experience\", \"Exp_sq\", \"Exp_cube\", \"Exp_quart\", \"Ed_Years\", \"Ed_Years_sq\", \"White\", \"Male\"])\n",
    "\n",
    "x_data_bf = []\n",
    "for i in exp_yrs:\n",
    "    x_data_bf.append([i, i**2, i**3, i**4, ed_year, ed_year**2, 0, 0])\n",
    "x_bf_df=pd.DataFrame(x_data_bf, columns = [\"Experience\", \"Exp_sq\", \"Exp_cube\", \"Exp_quart\", \"Ed_Years\", \"Ed_Years_sq\", \"White\", \"Male\"])"
   ]
  },
  {
   "cell_type": "code",
   "execution_count": 57,
   "id": "575fc0fd",
   "metadata": {},
   "outputs": [],
   "source": [
    "wm_log_wage_predict = results_qt.predict(x_wm_df)\n",
    "wm_earn_predict = math.e**wm_log_wage_predict\n",
    "\n",
    "bm_log_wage_predict = results_qt.predict(x_bm_df)\n",
    "bm_earn_predict = math.e**bm_log_wage_predict\n",
    "\n",
    "wf_log_wage_predict = results_qt.predict(x_wf_df)\n",
    "wf_earn_predict = math.e**wf_log_wage_predict\n",
    "\n",
    "bf_log_wage_predict = results_qt.predict(x_bf_df)\n",
    "bf_earn_predict = math.e**bf_log_wage_predict\n",
    "\n",
    "phd_earnings = pd.DataFrame({\"WM Earnings\":wm_earn_predict,\"BM Earnings\":bm_earn_predict, \"WF Earnings\":wf_earn_predict, \"BF Earnings\":bf_earn_predict})"
   ]
  },
  {
   "cell_type": "code",
   "execution_count": 58,
   "id": "b8143653",
   "metadata": {},
   "outputs": [],
   "source": [
    "exp_yrs = list(range(-8,53))\n",
    "ed_year = 21\n",
    "x_data_wm = []\n",
    "for i in exp_yrs:\n",
    "    x_data_wm.append([i, i**2, i**3, i**4, ed_year, ed_year**2, 1, 1])\n",
    "x_wm_df=pd.DataFrame(x_data_wm, columns = [\"Experience\", \"Exp_sq\", \"Exp_cube\", \"Exp_quart\", \"Ed_Years\", \"Ed_Years_sq\", \"White\", \"Male\"])\n",
    "\n",
    "x_data_bm = []\n",
    "for i in exp_yrs:\n",
    "    x_data_bm.append([i, i**2, i**3, i**4, ed_year, ed_year**2, 0, 1])\n",
    "x_bm_df=pd.DataFrame(x_data_bm, columns = [\"Experience\", \"Exp_sq\", \"Exp_cube\", \"Exp_quart\", \"Ed_Years\", \"Ed_Years_sq\", \"White\", \"Male\"])\n",
    "\n",
    "x_data_wf = []\n",
    "for i in exp_yrs:\n",
    "    x_data_wf.append([i, i**2, i**3, i**4, ed_year, ed_year**2, 1, 0])\n",
    "x_wf_df=pd.DataFrame(x_data_wf, columns = [\"Experience\", \"Exp_sq\", \"Exp_cube\", \"Exp_quart\", \"Ed_Years\", \"Ed_Years_sq\", \"White\", \"Male\"])\n",
    "\n",
    "x_data_bf = []\n",
    "for i in exp_yrs:\n",
    "    x_data_bf.append([i, i**2, i**3, i**4, ed_year, ed_year**2, 0, 0])\n",
    "x_bf_df=pd.DataFrame(x_data_bf, columns = [\"Experience\", \"Exp_sq\", \"Exp_cube\", \"Exp_quart\", \"Ed_Years\", \"Ed_Years_sq\", \"White\", \"Male\"])"
   ]
  },
  {
   "cell_type": "code",
   "execution_count": 59,
   "id": "4e9c4e88",
   "metadata": {},
   "outputs": [],
   "source": [
    "wm_log_wage_predict = results_qt.predict(x_wm_df)\n",
    "wm_earn_predict = math.e**wm_log_wage_predict\n",
    "\n",
    "bm_log_wage_predict = results_qt.predict(x_bm_df)\n",
    "bm_earn_predict = math.e**bm_log_wage_predict\n",
    "\n",
    "wf_log_wage_predict = results_qt.predict(x_wf_df)\n",
    "wf_earn_predict = math.e**wf_log_wage_predict\n",
    "\n",
    "bf_log_wage_predict = results_qt.predict(x_bf_df)\n",
    "bf_earn_predict = math.e**bf_log_wage_predict\n",
    "\n",
    "pro_earnings = pd.DataFrame({\"WM Earnings\":wm_earn_predict,\"BM Earnings\":bm_earn_predict, \"WF Earnings\":wf_earn_predict, \"BF Earnings\":bf_earn_predict})"
   ]
  },
  {
   "cell_type": "code",
   "execution_count": null,
   "id": "64269e63",
   "metadata": {},
   "outputs": [],
   "source": [
    "# this is the output we want slapped in the model.\n",
    "output = pd.concat([hs_earnings, assoc_earnings, bach_earnings, mast_earnings, phd_earnings, pro_earnings])"
   ]
  },
  {
   "cell_type": "markdown",
   "id": "da505405",
   "metadata": {},
   "source": [
    "#doing same as above but with pseo-like data manipulation.\n",
    "data_pseo=data_ft[data_ft[\"real_wage\"]>15080]\n",
    "pseo_model_qt = ols(\n",
    "    \"log_wages ~ Experience + Exp_sq + Exp_cube+ Exp_quart + Ed_Years+ Ed_Years_sq + White*(Experience + Exp_sq + Exp_cube + Exp_quart + Ed_Years + Ed_Years_sq) + Male*(Experience + Exp_sq + Exp_cube + Exp_quart + Ed_Years + Ed_Years_sq)\", data=data_pseo)\n",
    "pseo_results = pseo_model_qt.fit()\n",
    "\n",
    "wm_log_wage_predict = pseo_results.predict(x_wm_df)\n",
    "wm_earn_predict = math.e**wm_log_wage_predict\n",
    "\n",
    "bm_log_wage_predict = pseo_results.predict(x_bm_df)\n",
    "bm_earn_predict = math.e**bm_log_wage_predict\n",
    "\n",
    "wf_log_wage_predict = pseo_results.predict(x_wf_df)\n",
    "wf_earn_predict = math.e**wf_log_wage_predict\n",
    "\n",
    "bf_log_wage_predict = pseo_results.predict(x_bf_df)\n",
    "bf_earn_predict = math.e**bf_log_wage_predict\n",
    "\n",
    "pseo_assoc_earnings = pd.DataFrame({\"WM Earnings\":wm_earn_predict,\"BM Earnings\":bm_earn_predict, \"WF Earnings\":wf_earn_predict, \"BF Earnings\":bf_earn_predict})\n",
    "pseo_assoc_earnings.to_csv(r\"G:\\Shared drives\\EDU Consulting - Private\\Michael\\Mincer\\code\\output\\pseo_assoc_earnings.csv\")\n",
    "\n",
    "exp_yrs = list(range(-2,53))\n",
    "ed_year = 12\n",
    "x_data_wm = []\n",
    "for i in exp_yrs:\n",
    "    x_data_wm.append([i, i**2, i**3, i**4, ed_year, ed_year**2, 1, 1])\n",
    "x_wm_df=pd.DataFrame(x_data_wm, columns = [\"Experience\", \"Exp_sq\", \"Exp_cube\", \"Exp_quart\", \"Ed_Years\", \"Ed_Years_sq\", \"White\", \"Male\"])\n",
    "\n",
    "x_data_bm = []\n",
    "for i in exp_yrs:\n",
    "    x_data_bm.append([i, i**2, i**3, i**4, ed_year, ed_year**2, 0, 1])\n",
    "x_bm_df=pd.DataFrame(x_data_bm, columns = [\"Experience\", \"Exp_sq\", \"Exp_cube\", \"Exp_quart\", \"Ed_Years\", \"Ed_Years_sq\", \"White\", \"Male\"])\n",
    "\n",
    "x_data_wf = []\n",
    "for i in exp_yrs:\n",
    "    x_data_wf.append([i, i**2, i**3, i**4, ed_year, ed_year**2, 1, 0])\n",
    "x_wf_df=pd.DataFrame(x_data_wf, columns = [\"Experience\", \"Exp_sq\", \"Exp_cube\", \"Exp_quart\", \"Ed_Years\", \"Ed_Years_sq\", \"White\", \"Male\"])\n",
    "\n",
    "x_data_bf = []\n",
    "for i in exp_yrs:\n",
    "    x_data_bf.append([i, i**2, i**3, i**4, ed_year, ed_year**2, 0, 0])\n",
    "x_bf_df=pd.DataFrame(x_data_bf, columns = [\"Experience\", \"Exp_sq\", \"Exp_cube\", \"Exp_quart\", \"Ed_Years\", \"Ed_Years_sq\", \"White\", \"Male\"])\n",
    "\n",
    "wm_log_wage_predict = pseo_results.predict(x_wm_df)\n",
    "wm_earn_predict = math.e**wm_log_wage_predict\n",
    "\n",
    "bm_log_wage_predict = pseo_results.predict(x_bm_df)\n",
    "bm_earn_predict = math.e**bm_log_wage_predict\n",
    "\n",
    "wf_log_wage_predict = pseo_results.predict(x_wf_df)\n",
    "wf_earn_predict = math.e**wf_log_wage_predict\n",
    "\n",
    "bf_log_wage_predict = pseo_results.predict(x_bf_df)\n",
    "bf_earn_predict = math.e**bf_log_wage_predict\n",
    "\n",
    "pseo_hs_earnings = pd.DataFrame({\"WM Earnings\":wm_earn_predict,\"BM Earnings\":bm_earn_predict, \"WF Earnings\":wf_earn_predict, \"BF Earnings\":bf_earn_predict})\n",
    "pseo_hs_earnings.to_csv(r\"G:\\Shared drives\\EDU Consulting - Private\\Michael\\Mincer\\code\\output\\pseo_hs_earnings.csv\")\n"
   ]
  },
  {
   "cell_type": "code",
   "execution_count": null,
   "id": "e7bcecd3",
   "metadata": {},
   "outputs": [
    {
     "data": {
      "text/html": [
       "<div>\n",
       "<style scoped>\n",
       "    .dataframe tbody tr th:only-of-type {\n",
       "        vertical-align: middle;\n",
       "    }\n",
       "\n",
       "    .dataframe tbody tr th {\n",
       "        vertical-align: top;\n",
       "    }\n",
       "\n",
       "    .dataframe thead th {\n",
       "        text-align: right;\n",
       "    }\n",
       "</style>\n",
       "<table border=\"1\" class=\"dataframe\">\n",
       "  <thead>\n",
       "    <tr style=\"text-align: right;\">\n",
       "      <th></th>\n",
       "      <th>WM Earnings</th>\n",
       "      <th>BM Earnings</th>\n",
       "      <th>WF Earnings</th>\n",
       "      <th>BF Earnings</th>\n",
       "    </tr>\n",
       "  </thead>\n",
       "  <tbody>\n",
       "    <tr>\n",
       "      <th>0</th>\n",
       "      <td>401.006138</td>\n",
       "      <td>956.648696</td>\n",
       "      <td>647.308633</td>\n",
       "      <td>1544.233119</td>\n",
       "    </tr>\n",
       "    <tr>\n",
       "      <th>1</th>\n",
       "      <td>587.339055</td>\n",
       "      <td>1259.132810</td>\n",
       "      <td>895.191692</td>\n",
       "      <td>1919.104852</td>\n",
       "    </tr>\n",
       "    <tr>\n",
       "      <th>2</th>\n",
       "      <td>841.015906</td>\n",
       "      <td>1633.766682</td>\n",
       "      <td>1213.322968</td>\n",
       "      <td>2357.014445</td>\n",
       "    </tr>\n",
       "    <tr>\n",
       "      <th>3</th>\n",
       "      <td>1178.384780</td>\n",
       "      <td>2090.823778</td>\n",
       "      <td>1613.074290</td>\n",
       "      <td>2862.099152</td>\n",
       "    </tr>\n",
       "    <tr>\n",
       "      <th>4</th>\n",
       "      <td>1617.036392</td>\n",
       "      <td>2640.338485</td>\n",
       "      <td>2105.252256</td>\n",
       "      <td>3437.509867</td>\n",
       "    </tr>\n",
       "    <tr>\n",
       "      <th>...</th>\n",
       "      <td>...</td>\n",
       "      <td>...</td>\n",
       "      <td>...</td>\n",
       "      <td>...</td>\n",
       "    </tr>\n",
       "    <tr>\n",
       "      <th>56</th>\n",
       "      <td>154015.677418</td>\n",
       "      <td>136929.414925</td>\n",
       "      <td>117980.846802</td>\n",
       "      <td>104892.233024</td>\n",
       "    </tr>\n",
       "    <tr>\n",
       "      <th>57</th>\n",
       "      <td>152669.105725</td>\n",
       "      <td>135463.167413</td>\n",
       "      <td>117384.634659</td>\n",
       "      <td>104155.286304</td>\n",
       "    </tr>\n",
       "    <tr>\n",
       "      <th>58</th>\n",
       "      <td>151260.048058</td>\n",
       "      <td>134015.918321</td>\n",
       "      <td>116743.291539</td>\n",
       "      <td>103434.182550</td>\n",
       "    </tr>\n",
       "    <tr>\n",
       "      <th>59</th>\n",
       "      <td>149771.533932</td>\n",
       "      <td>132590.075423</td>\n",
       "      <td>116040.612945</td>\n",
       "      <td>102728.690951</td>\n",
       "    </tr>\n",
       "    <tr>\n",
       "      <th>60</th>\n",
       "      <td>148184.738128</td>\n",
       "      <td>131186.854550</td>\n",
       "      <td>115258.870251</td>\n",
       "      <td>102037.826825</td>\n",
       "    </tr>\n",
       "  </tbody>\n",
       "</table>\n",
       "<p>366 rows × 4 columns</p>\n",
       "</div>"
      ],
      "text/plain": [
       "      WM Earnings    BM Earnings    WF Earnings    BF Earnings\n",
       "0      401.006138     956.648696     647.308633    1544.233119\n",
       "1      587.339055    1259.132810     895.191692    1919.104852\n",
       "2      841.015906    1633.766682    1213.322968    2357.014445\n",
       "3     1178.384780    2090.823778    1613.074290    2862.099152\n",
       "4     1617.036392    2640.338485    2105.252256    3437.509867\n",
       "..            ...            ...            ...            ...\n",
       "56  154015.677418  136929.414925  117980.846802  104892.233024\n",
       "57  152669.105725  135463.167413  117384.634659  104155.286304\n",
       "58  151260.048058  134015.918321  116743.291539  103434.182550\n",
       "59  149771.533932  132590.075423  116040.612945  102728.690951\n",
       "60  148184.738128  131186.854550  115258.870251  102037.826825\n",
       "\n",
       "[366 rows x 4 columns]"
      ]
     },
     "execution_count": 39,
     "metadata": {},
     "output_type": "execute_result"
    }
   ],
   "source": [
    "output"
   ]
  }
 ],
 "metadata": {
  "kernelspec": {
   "display_name": "Python 3 (ipykernel)",
   "language": "python",
   "name": "python3"
  },
  "language_info": {
   "codemirror_mode": {
    "name": "ipython",
    "version": 3
   },
   "file_extension": ".py",
   "mimetype": "text/x-python",
   "name": "python",
   "nbconvert_exporter": "python",
   "pygments_lexer": "ipython3",
   "version": "3.11.5"
  }
 },
 "nbformat": 4,
 "nbformat_minor": 5
}
